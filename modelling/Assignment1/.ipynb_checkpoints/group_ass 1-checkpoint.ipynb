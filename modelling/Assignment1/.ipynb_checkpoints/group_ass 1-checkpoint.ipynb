{
 "cells": [
  {
   "cell_type": "code",
   "execution_count": 1,
   "id": "8a75eea4-dd8b-4f86-8031-424cdd5a2ae4",
   "metadata": {},
   "outputs": [],
   "source": [
    "# group 8 work 1\n",
    "#Water Balance of the Wieringermeer Landfill\n",
    "#-Assignment 1 for course CIE4365\n",
    "#@author: Yiman Liu      5456703\n",
    "#         Yuwei Huang    5555566\n",
    "#         Yukun Xie      5594448\n",
    "#         Mingkai Wei"
   ]
  },
  {
   "cell_type": "code",
   "execution_count": 2,
   "id": "5a26e88c-7305-4cd9-9297-22e419f37cac",
   "metadata": {},
   "outputs": [],
   "source": [
    "import numpy as np\n",
    "import matplotlib.pyplot as plt\n",
    "import scipy as sp\n",
    "import warnings\n",
    "import time\n",
    "import scipy.integrate as spint\n",
    "%matplotlib inline\n",
    "warnings.filterwarnings('ignore')      #inhibit warning"
   ]
  },
  {
   "cell_type": "code",
   "execution_count": null,
   "id": "c65ba9b4-bec6-4221-ba74-d423055ce796",
   "metadata": {},
   "outputs": [],
   "source": [
    "import pandas as pd\n",
    "data1 = pd.read_excel('WieringermeerData_Meteo.xlsx', index_col = 0, parse_dates = [0])\n",
    "data2 = pd.read_excel('WieringermeerData_LeachateProduction.xlsx', names = ['time','Leachate'], parse_dates = [0], index_col = 0)\n",
    "data = pd.concat([data1, data2], axis = 1, join = 'outer')    #outer connect two excels, remain axis with nan value          \n",
    "J, EV, T, L = np.array(data.iloc[:, :4]).T                    #get values by transpose"
   ]
  },
  {
   "cell_type": "code",
   "execution_count": null,
   "id": "1f002203-6c68-4b9d-8de4-02eacddb9b34",
   "metadata": {},
   "outputs": [],
   "source": [
    "# Definition of initial parameters\n",
    "Ac = 28355              #m^2, surface area of waste body\n",
    "Aw = 9100               #m^2, surface area of cover layer\n",
    "beta0 = 0.8             #range 0-2.5\n",
    "p = 0.4                 #Soil porosity\n",
    "a = 0.2                 #10*(-1) - 10**4 [m/day]\n",
    "bcl = 14                #dimensionless empirical parameter\n",
    "bwb = 2                 #dimensionless empirical parameter\n",
    "Sclmin = 0.5 * p * 1.5  #m, minimum storage in the cover layer\n",
    "Swbmin = 0.5 * p * 12   #m, minimum storage in the waste body\n",
    "Sclmax = 1.5 * p        #m, maximum storage in the cover layer \n",
    "Swbmax = 12 * p         #m, maximum storage in the waste body\n",
    "Sevmin = 0.05\n",
    "Sevmax = 0.5\n",
    "Cf = 0.7         #crop factor\n",
    "pcl = 0.6\n",
    "pwb = 0.4\n",
    "\n",
    "Y0 = np.array([0.27,0.5])   #initial value\n",
    "tOut = np.linspace(0, len(L) - 1, len(L))  #time steps, use len()-1 to get values like 0, 1, 2... and avoid exceed the index in later functions "
   ]
  },
  {
   "cell_type": "code",
   "execution_count": null,
   "id": "e05bcff9-2219-4b77-ae0b-98e284ac9dcc",
   "metadata": {},
   "outputs": [],
   "source": [
    "# Definition of Rate Equation\n",
    "def correction(Scl, Swb):\n",
    "    Scl = ((Scl < Sclmin) * Sclmin + (Sclmin <= Scl <= Sclmax) * Scl + (Scl > Sclmax) * Sclmax)\n",
    "    Swb = ((Swb < Swbmin) * Swbmin + (Swbmin <= Swb <= Swbmax) * Swb + (Swb > Swbmax) * Swbmax)\n",
    "    return Scl, Swb\n",
    "    \n",
    "def create_lcl_lwb_beta(Scl, Swb):\n",
    "    L_cl = a * ((Scl - Sclmin) / (Sclmax - Sclmin)) ** bcl\n",
    "    L_wb = a * ((Swb - Swbmin) / (Swbmax -Swbmin)) ** bwb\n",
    "    beta = beta0 * ((Scl - Sclmin) / (Sclmax - Sclmin))\n",
    "    return L_cl, L_wb, beta\n",
    "\n",
    "def Leachte(Scl, Swb):      #m^3/d\n",
    "    L_cl, L_wb, beta = create_lcl_lwb_beta(Scl, Swb)\n",
    "    return beta * L_cl * Ac + L_wb * Aw\n",
    "\n",
    "def Leachte_nonarea(Scl, Swb):     #m/d\n",
    "    L_cl, L_wb, beta = create_lcl_lwb_beta(Scl, Swb)\n",
    "    return beta * L_cl + L_wb\n",
    "\n",
    "def dYdt(t, Y):\n",
    "    Y[0], Y[1] = correction(Y[0], Y[1]) \n",
    "    fred = ((Y[0] < Sevmin) * 0 + (Sevmin <= Y[0] <= Sevmax) * ((Y[0] - Sevmin) / (Sevmax - Sevmin)) + (Y[0] > Sevmax) * 1)\n",
    "    lcl, lwb, beta = create_lcl_lwb_beta(Y[0], Y[1])\n",
    "    et = EV[int(t)] * Cf * fred\n",
    "    return np.array([J[int(t)] - lcl - et, (1 - beta) * lcl - lwb])"
   ]
  },
  {
   "cell_type": "code",
   "execution_count": null,
   "id": "e6c8f081-e919-4cee-8dff-94780bed7df6",
   "metadata": {},
   "outputs": [],
   "source": [
    "#Calculation of model\n",
    "start = time.time()\n",
    "t_span = [tOut[0], tOut[-1]]\n",
    "YODE = spint.solve_ivp(dYdt, t_span, Y0, t_eval = tOut, vectorized = True, method = 'RK45', rtol = 1e-5)\n",
    "data['ScODE'] = YODE.y[0, :]            #create dataframes directly\n",
    "data['SwODE'] = YODE.y[1, :]\n",
    "print (f\"Elapsed time is {time.time() - start} seconds.\")            #get running time\n",
    "\n",
    "#global plot of Model\n",
    "data.ScODE.plot(figsize = [10, 6], xlabel = 'time[d]', ylabel = 'water storage[m/d]', title = 'Water storage of the cover layer and the waste body', grid = True, legend = True)\n",
    "data.SwODE.plot(grid = True, legend = True)\n",
    "\n",
    "#local plot of Model & experiment\n",
    "data_nonan = data.dropna(axis = 0, how = 'any')          #delete all axis with nan values\n",
    "correction = np.vectorize(correction)\n",
    "ScODE, SwODE = correction(data_nonan.ScODE, data_nonan.SwODE) \n",
    "data_nonan['Leachate_model'] = np.cumsum(Leachte(ScODE, SwODE))\n",
    "plt.figure(figsize=[10,6])\n",
    "data_nonan.Leachate.plot(xlabel = 'time[d]', ylabel = 'Leachate[m^3/d]', title = 'Accumulation of leachate of the cover layer and the waste body', grid = True, legend = True)\n",
    "data_nonan.Leachate_model.plot(grid = True, legend = True);"
   ]
  },
  {
   "cell_type": "code",
   "execution_count": null,
   "id": "b5a6801a-b7f2-49ea-92cb-c5cfc5bd7a78",
   "metadata": {},
   "outputs": [],
   "source": [
    "ScODE, SwODE = correction(data.ScODE, data.SwODE)\n",
    "data['Leachate_model'] = Leachte_nonarea(ScODE, SwODE)        #create new colum with no area calculation\n",
    "\n",
    "#rain and Leachate\n",
    "data.rain_station.plot(figsize = [10, 6], xlabel = 'time[d]', ylabel = 'drainage or rain[m/d]', color='c', title = 'The relationship between daily discharge of drainage and rain', grid = True, legend = True)\n",
    "data.Leachate_model.plot(grid = True, legend = True)\n",
    "\n",
    "#evaporation and Leachate\n",
    "plt.figure(figsize = [10, 6])\n",
    "data.pEV.plot(xlabel = 'time[d]', ylabel = 'discharge or evaporation[m/d]', color='r', title = 'The relationship between daily discharge of drainage and evaporation', grid = True, legend = True)\n",
    "data.Leachate_model.plot(grid = True, legend = True)\n",
    "\n",
    "#Temperature and Leachate\n",
    "fig, ax = plt.subplots(figsize = [10, 6])\n",
    "ax2 = ax.twinx()             #create mirror y-axis\n",
    "data.temp.plot(ax = ax, xlabel = 'time[d]', ylabel = 'temperature[m/d]', color='g', title = 'The relationship between daily discharge of drainage and temperature', grid = True, legend = True)\n",
    "#plt.legend(loc='lower left')\n",
    "data.Leachate_model.plot(ax = ax2,  ylabel = 'discharge[m/d]', legend = True)\n",
    "plt.legend(loc = 'upper right');"
   ]
  },
  {
   "cell_type": "code",
   "execution_count": null,
   "id": "f4501c85-80ba-41e6-a260-f1c32d8384f4",
   "metadata": {},
   "outputs": [],
   "source": []
  }
 ],
 "metadata": {
  "kernelspec": {
   "display_name": "Python 3",
   "language": "python",
   "name": "python3"
  },
  "language_info": {
   "codemirror_mode": {
    "name": "ipython",
    "version": 3
   },
   "file_extension": ".py",
   "mimetype": "text/x-python",
   "name": "python",
   "nbconvert_exporter": "python",
   "pygments_lexer": "ipython3",
   "version": "3.8.8"
  }
 },
 "nbformat": 4,
 "nbformat_minor": 5
}
