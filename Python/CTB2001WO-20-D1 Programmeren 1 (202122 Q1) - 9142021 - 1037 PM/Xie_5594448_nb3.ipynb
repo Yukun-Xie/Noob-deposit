{
 "cells": [
  {
   "cell_type": "markdown",
   "metadata": {},
   "source": [
    "<figure>\n",
    "  <IMG SRC=\"https://raw.githubusercontent.com/mbakker7/exploratory_computing_with_python/master/tudelft_logo.png\" WIDTH=250 ALIGN=\"right\">\n",
    "</figure>\n",
    "\n",
    "# Exploratory Computing with Python\n",
    "*Developed by Mark Bakker with questions by Lars Pije and Hugo van Looveren*"
   ]
  },
  {
   "cell_type": "markdown",
   "metadata": {},
   "source": [
    "## Notebook 3: `for` loops and `if/else` statements\n",
    "As we will again be using `numpy` and `matplotlib`, we start by importing them"
   ]
  },
  {
   "cell_type": "code",
   "execution_count": 1,
   "metadata": {},
   "outputs": [],
   "source": [
    "%matplotlib inline\n",
    "import numpy as np\n",
    "import matplotlib.pyplot as plt"
   ]
  },
  {
   "cell_type": "markdown",
   "metadata": {},
   "source": [
    "### The `for` loop\n",
    "Loops are used to execute a command repeatedly. The syntax for a loop is as follows"
   ]
  },
  {
   "cell_type": "code",
   "execution_count": 2,
   "metadata": {},
   "outputs": [
    {
     "name": "stdout",
     "output_type": "stream",
     "text": [
      "Hello world, the value of i is 0\n",
      "Hello world, the value of i is 1\n",
      "Hello world, the value of i is 2\n",
      "Hello world, the value of i is 3\n",
      "Hello world, the value of i is 4\n"
     ]
    }
   ],
   "source": [
    "for i in [0, 1, 2, 3, 4]:\n",
    "    print('Hello world, the value of i is', i)"
   ]
  },
  {
   "cell_type": "markdown",
   "metadata": {},
   "source": [
    "In the code above, the variable `i` loops through the five values in the list `[0, 1, 2, 3, 4]`. The first time through, the value of `i` is equal to `0`, the second time through, its value is `1`, and so on till the last time when its value is `4`. Note the syntax of a `for` loop: At the end of the `for` statement you need to put a colon (`:`) and after that you need to indent. It doesn't matter how many spaces you indent, as long as you keep using the same number of spaces for the entire `for` loop. Jupyter Notebooks automatically indent 4 spaces, which is considered good Python style, so use that. You can have as many lines of code inside the `for` loop as you want. To end the `for` loop, simply stop indenting. "
   ]
  },
  {
   "cell_type": "code",
   "execution_count": 3,
   "metadata": {},
   "outputs": [
    {
     "name": "stdout",
     "output_type": "stream",
     "text": [
      "x, xsquare 0 0\n",
      "x, xsquare 1 1\n",
      "x, xsquare 2 4\n",
      "x, xsquare 3 9\n",
      "We are done with the loop\n"
     ]
    }
   ],
   "source": [
    "for x in [0, 1, 2, 3]: \n",
    "    xsquared = x ** 2\n",
    "    print('x, xsquare', x, xsquared)\n",
    "print('We are done with the loop')"
   ]
  },
  {
   "cell_type": "markdown",
   "metadata": {},
   "source": [
    "The list of values to loop through can be anything. It doesn't even have to be numbers. The `for` loop simply goes through all the values in the list one by one:"
   ]
  },
  {
   "cell_type": "code",
   "execution_count": 4,
   "metadata": {},
   "outputs": [
    {
     "name": "stdout",
     "output_type": "stream",
     "text": [
      "the value of data is: 20\n",
      "the value of data is: mark\n",
      "the value of data is: 3.1622776601683795\n"
     ]
    }
   ],
   "source": [
    "for data in [20, 'mark', np.sqrt(10)]:\n",
    "    print('the value of data is:', data)"
   ]
  },
  {
   "cell_type": "markdown",
   "metadata": {},
   "source": [
    "It is, of course, rather inconvenient to have to specify a list to loop through when the list is very long. For example, if you want to do something 100 times, you don't want to type a list of values from 0 up to 100. But Python has a convenient function for that called `range`. You can loop through a `range` just like you can loop through a list. To loop 10 times, starting with the value `0`:"
   ]
  },
  {
   "cell_type": "code",
   "execution_count": 5,
   "metadata": {},
   "outputs": [
    {
     "name": "stdout",
     "output_type": "stream",
     "text": [
      "the value of i is: 0\n",
      "the value of i is: 1\n",
      "the value of i is: 2\n",
      "the value of i is: 3\n",
      "the value of i is: 4\n",
      "the value of i is: 5\n",
      "the value of i is: 6\n",
      "the value of i is: 7\n",
      "the value of i is: 8\n",
      "the value of i is: 9\n"
     ]
    }
   ],
   "source": [
    "for i in range(10):\n",
    "    print('the value of i is:', i)"
   ]
  },
  {
   "cell_type": "markdown",
   "metadata": {},
   "source": [
    "A `range` can be converted to a list with the `list` function (but we will not use that option very often). You can call `range` with just one argument, in which case it will generate a range from 0 up to but not including the specified number. Note that `range(10)` produces 10 numbers from 0 up to and including 9. You can optionally give a starting value and a step, similar to the `np.arange` function."
   ]
  },
  {
   "cell_type": "code",
   "execution_count": 6,
   "metadata": {},
   "outputs": [
    {
     "name": "stdout",
     "output_type": "stream",
     "text": [
      "a range with 10 values: [0, 1, 2, 3, 4, 5, 6, 7, 8, 9]\n",
      "a range from 10 till 20 [10, 11, 12, 13, 14, 15, 16, 17, 18, 19]\n",
      "a range from 10 till 20 with steps of 2: [10, 12, 14, 16, 18]\n"
     ]
    }
   ],
   "source": [
    "print('a range with 10 values:', list(range(10)))\n",
    "print('a range from 10 till 20', list(range(10, 20)))\n",
    "print('a range from 10 till 20 with steps of 2:', list(range(10, 20, 2)))"
   ]
  },
  {
   "cell_type": "markdown",
   "metadata": {},
   "source": [
    "A loop can be used to fill an array. Let's compute $y=\\cos(x)$ where $x$ is an array that varies from 0 to $2\\pi$ with 100 points. We already know, of course, that this can be done with the statement `y = np.cos(x)`. Sometimes this is not possible, however, and we need to fill an array with a loop. First we have to create the array `y` (for example filled with zeros using the `zeros_like` function) and then fill it with the correct values by looping through all values of `x`, so that the index goes from `0` to the length of the `x` array. The counter in the loop (the variable `i` in the code below) is used as the index of the array that is filled."
   ]
  },
  {
   "cell_type": "code",
   "execution_count": 7,
   "metadata": {},
   "outputs": [
    {
     "data": {
      "image/png": "[encoded data removed]",
      "text/plain": [
       "<Figure size 432x288 with 1 Axes>"
      ]
     },
     "metadata": {
      "needs_background": "light"
     },
     "output_type": "display_data"
    }
   ],
   "source": [
    "x = np.linspace(0, 2 * np.pi, 100)\n",
    "y = np.zeros_like(x)  # similar to zeros(shape(x))\n",
    "for i in range(len(x)):\n",
    "    y[i] = np.cos(x[i])\n",
    "plt.plot(x, y);"
   ]
  },
  {
   "cell_type": "markdown",
   "metadata": {},
   "source": [
    "Loops are very useful constructs in a programming script. Whenever you need to do a computation multiple times you should automatically think: *loop!*. "
   ]
  },
  {
   "cell_type": "markdown",
   "metadata": {},
   "source": [
    "### Exercise 1. First `for` foop\n",
    "The ten universities in the Netherlands with the most students are: UVA, UU, RUG, VU, Leiden University, Erasmus University, Radboud University, TU Delft, Maastricht University, and Tilburg University. The numbers of students at those universities are: 31 thousand, 30 thousand, 30 thousand, 25 thousand, 24 thousand, 23 thousand, 20 thousand, 20 thousand, 16 thousand, 12 thousand. \n",
    "\n",
    "Write a `for` loop that loops through all universities, cities, and numbers of students and prints:\n",
    "\n",
    "`xx has yy thousand students`\n",
    "\n",
    "where you fill in the name of the university for `xx` and the number of students for `yy`. Use f-strings."
   ]
  },
  {
   "cell_type": "code",
   "execution_count": 8,
   "metadata": {},
   "outputs": [
    {
     "name": "stdout",
     "output_type": "stream",
     "text": [
      "UVA has 31 thousand students\n",
      "UU has 30 thousand students\n",
      "RUG has 30 thousand students\n",
      "VU has 25 thousand students\n",
      "Leiden University has 24 thousand students\n",
      "Erasmus University has 23 thousand students\n",
      "Radboud University has 20 thousand students\n",
      "TU Delft has 20 thousand students\n",
      "Maastricht University has 16 thousand students\n",
      "Tilburg University has 12 thousand students\n"
     ]
    }
   ],
   "source": [
    "xx = [\"UVA\", \"UU\", \"RUG\",\"VU\", \"Leiden University\", \"Erasmus University\", \"Radboud University\", \"TU Delft\", \"Maastricht University\", \"Tilburg University\"]\n",
    "yy = [31, 30, 30, 25, 24, 23, 20, 20, 16, 12]\n",
    "for i in range(len(xx)):\n",
    "    print(f\"{xx[i]} has {yy[i]} thousand students\")"
   ]
  },
  {
   "cell_type": "markdown",
   "metadata": {},
   "source": [
    "### The `if` statement\n",
    "An `if` statement lets you perform a task only when the outcome of the `if` statement is true. For example"
   ]
  },
  {
   "cell_type": "code",
   "execution_count": 9,
   "metadata": {},
   "outputs": [
    {
     "name": "stdout",
     "output_type": "stream",
     "text": [
      "starting value: 4\n",
      "changing data in the first if-statement\n",
      "value after the first if-statement: 6\n",
      "value after the second if-statement: 6\n"
     ]
    }
   ],
   "source": [
    "data = 4\n",
    "print('starting value:', data)\n",
    "if data < 6:\n",
    "    print('changing data in the first if-statement')\n",
    "    data = data + 2\n",
    "print('value after the first if-statement:', data)\n",
    "if data > 20:\n",
    "    print('changing data in the second if-statement')\n",
    "    data = 200\n",
    "print('value after the second if-statement:', data)  # data hasn't changed as data is not larger than 20"
   ]
  },
  {
   "cell_type": "markdown",
   "metadata": {},
   "source": [
    "Note the syntax of the `if` statement: It starts with `if` followed by a statement that is either `True` or `False` and then a colon. After the colon, you need to indent and the entire indented code block (in this case 2 lines of code) is executed if the statement is `True`. The `if` statement is completed when you stop indenting. Recall from Notebook 2 that you can use larger than `>`, larger than or equal `>=`, equal `==`, smaller than or equal `<=`, smaller than `<` or not equal `!=`."
   ]
  },
  {
   "cell_type": "markdown",
   "metadata": {},
   "source": [
    "### The `if`/`else` statement\n",
    "The `if` statement may be followed by an `else` statement, which is executed when the condition after `if` is `False`. For example"
   ]
  },
  {
   "cell_type": "code",
   "execution_count": 10,
   "metadata": {},
   "outputs": [
    {
     "name": "stdout",
     "output_type": "stream",
     "text": [
      "a is 4, which is not smaller than 3\n"
     ]
    }
   ],
   "source": [
    "a = 4\n",
    "if a < 3:\n",
    "    print(f'a is {a}, which is smaller than 3')\n",
    "else:\n",
    "    print(f'a is {a}, which is not smaller than 3')"
   ]
  },
  {
   "cell_type": "markdown",
   "metadata": {},
   "source": [
    "You can even extend the `else` by adding one or more conditions with the `elif` command which is short for 'else if'"
   ]
  },
  {
   "cell_type": "code",
   "execution_count": 11,
   "metadata": {},
   "outputs": [
    {
     "name": "stdout",
     "output_type": "stream",
     "text": [
      "a is 2, which is smaller than 3\n",
      "a is 3, which is equal to 3\n",
      "a is 4, which is larger than 3\n"
     ]
    }
   ],
   "source": [
    "for a in [2, 3, 4]:\n",
    "    if a < 3:\n",
    "        print(f'a is {a}, which is smaller than 3')\n",
    "    elif a > 3:\n",
    "        print(f'a is {a}, which is larger than 3')\n",
    "    else:\n",
    "        print(f'a is {a}, which is equal to 3')"
   ]
  },
  {
   "cell_type": "markdown",
   "metadata": {},
   "source": [
    "### Exercise 2. Combination of `for` and `if`\n",
    "\n",
    "Some magnitudes of earthquakes are saved in the file `richtermagnitudes_nb3.txt`. The Richter scale consists of 9 categories. In this exercise we will simplify it to 4 categories as follows:\n",
    "\n",
    "|Description|Richter Magnitude number|\n",
    "|-----|:---:|\n",
    "|Micro - Light| Less than 3|\n",
    "|Moderate| From 3 to  6|\n",
    "|Strong - Great|From 6 to 10|\n",
    "|Meteoric |10 +|\n",
    "\n",
    "Load the file, loop through the magnitudes, print each magnitude to the screen and, on the same line, in which category the magnitude falls."
   ]
  },
  {
   "cell_type": "code",
   "execution_count": 12,
   "metadata": {},
   "outputs": [
    {
     "name": "stdout",
     "output_type": "stream",
     "text": [
      "The richter magnitude is 3.5 and its category is Moderate\n",
      "The richter magnitude is 8.6 and its category is Strong-Great\n",
      "The richter magnitude is 4.7 and its category is Moderate\n",
      "The richter magnitude is 6.9 and its category is Strong-Great\n",
      "The richter magnitude is 1.2 and its category is Micro-Light\n",
      "The richter magnitude is 1.4 and its category is Micro-Light\n",
      "The richter magnitude is 2.1 and its category is Micro-Light\n",
      "The richter magnitude is 5.7 and its category is Moderate\n",
      "The richter magnitude is 7.9 and its category is Strong-Great\n",
      "The richter magnitude is 9.3 and its category is Strong-Great\n",
      "The richter magnitude is 5.8 and its category is Moderate\n",
      "The richter magnitude is 10.4 and its category is Meteoric\n",
      "The richter magnitude is 1.2 and its category is Micro-Light\n",
      "The richter magnitude is 2.3 and its category is Micro-Light\n",
      "The richter magnitude is 3.0 and its category is Moderate\n",
      "The richter magnitude is 7.0 and its category is Strong-Great\n"
     ]
    }
   ],
   "source": [
    "a = np.loadtxt(\"richtermagnitudes_nb3.txt\")\n",
    "for i in a:\n",
    "    if i < 3:\n",
    "        print(f\"The richter magnitude is {i} and its category is Micro-Light\")\n",
    "    elif i < 6:\n",
    "        print(f\"The richter magnitude is {i} and its category is Moderate\")\n",
    "    elif i < 10:\n",
    "        print(f\"The richter magnitude is {i} and its category is Strong-Great\")\n",
    "    else:\n",
    "        print(f\"The richter magnitude is {i} and its category is Meteoric\")"
   ]
  },
  {
   "cell_type": "markdown",
   "metadata": {},
   "source": [
    "### Looping and summation\n",
    "One application of a loop is to compute the sum of all the values in an array. Consider, for example, the array `data` with 8 values. We will compute the sum of all values in `data`. We first define a variable `datasum` and assign it the initial value 0. Next, we loop through all the values in `data` and add each value to `datasum`:"
   ]
  },
  {
   "cell_type": "code",
   "execution_count": 13,
   "metadata": {},
   "outputs": [
    {
     "name": "stdout",
     "output_type": "stream",
     "text": [
      "i, datasum:  0 1\n",
      "i, datasum:  1 4\n",
      "i, datasum:  2 6\n",
      "i, datasum:  3 11\n",
      "i, datasum:  4 18\n",
      "i, datasum:  5 21\n",
      "i, datasum:  6 25\n",
      "i, datasum:  7 27\n",
      "total sum of data:  27\n"
     ]
    }
   ],
   "source": [
    "data = np.array([1, 3, 2, 5, 7, 3, 4, 2])\n",
    "datasum = 0\n",
    "for i in range(len(data)):\n",
    "    datasum = datasum + data[i]\n",
    "    print('i, datasum: ', i, datasum)\n",
    "print('total sum of data: ', datasum)"
   ]
  },
  {
   "cell_type": "markdown",
   "metadata": {},
   "source": [
    "Note that the statement \n",
    "\n",
    "`datasum = datasum + data[i]` \n",
    "\n",
    "means that `data[i]` is added to the current value of `datasum` and that the result is assigned to `datasum`. There is actually a shorter syntax for the same statement: \n",
    "\n",
    "`datasum += data[i]`\n",
    "\n",
    "The `+=` command means: add whatever is on the right side of the `+=` sign to whatever is on the left side. You can use whichever syntax you are most comfortable with (although `+=` is considered to be better and in some cases more efficient)."
   ]
  },
  {
   "cell_type": "markdown",
   "metadata": {},
   "source": [
    "### Exercise 3, Running total\n",
    "Consider the Wadden Sea, an intertidal zone in the southeastern part of the North Sea. During flood tide, water flows from the North Sea into the Wadden Sea, while during ebb tide, water flows from the Wadden Sea into the North Sea. The file `waddensea_discharge.txt` contains the amount of water (in m$^3$) that enters the Wadden Sea every hour. The area of the Wadden Sea is approximately 10,000 $km^2$. Assume that at $t=0$ the waterlevel is 0 meter. Create a loop that prints to the screen:\n",
    "\n",
    "`After XXX hours, the waterlevel in the Wadden Sea is XXX meters.`\n",
    "\n",
    "where you print the correct hours and the corresponding waterlevel, where the water leve is printed with 3 decimal places. Inside the loop, store the waterlevel in an array. Finally plot the waterlevel vs time. Add labels and a title."
   ]
  },
  {
   "cell_type": "code",
   "execution_count": 14,
   "metadata": {},
   "outputs": [
    {
     "name": "stdout",
     "output_type": "stream",
     "text": [
      "After 1 hours, the waterlevel in the Wadden Sea is 0.001 meters.\n",
      "After 2 hours, the waterlevel in the Wadden Sea is 0.060 meters.\n",
      "After 3 hours, the waterlevel in the Wadden Sea is 0.155 meters.\n",
      "After 4 hours, the waterlevel in the Wadden Sea is 0.259 meters.\n",
      "After 5 hours, the waterlevel in the Wadden Sea is 0.383 meters.\n",
      "After 6 hours, the waterlevel in the Wadden Sea is 0.547 meters.\n",
      "After 7 hours, the waterlevel in the Wadden Sea is 0.680 meters.\n",
      "After 8 hours, the waterlevel in the Wadden Sea is 0.755 meters.\n",
      "After 9 hours, the waterlevel in the Wadden Sea is 0.776 meters.\n",
      "After 10 hours, the waterlevel in the Wadden Sea is 0.763 meters.\n",
      "After 11 hours, the waterlevel in the Wadden Sea is 0.695 meters.\n",
      "After 12 hours, the waterlevel in the Wadden Sea is 0.604 meters.\n",
      "After 13 hours, the waterlevel in the Wadden Sea is 0.502 meters.\n",
      "After 14 hours, the waterlevel in the Wadden Sea is 0.358 meters.\n",
      "After 15 hours, the waterlevel in the Wadden Sea is 0.194 meters.\n",
      "After 16 hours, the waterlevel in the Wadden Sea is 0.071 meters.\n",
      "After 17 hours, the waterlevel in the Wadden Sea is -0.020 meters.\n",
      "After 18 hours, the waterlevel in the Wadden Sea is -0.054 meters.\n"
     ]
    },
    {
     "data": {
      "text/plain": [
       "Text(0, 0.5, 'Sealevel')"
      ]
     },
     "execution_count": 14,
     "metadata": {},
     "output_type": "execute_result"
    },
    {
     "data": {
      "image/png": "[encoded data removed]",
      "text/plain": [
       "<Figure size 432x288 with 1 Axes>"
      ]
     },
     "metadata": {
      "needs_background": "light"
     },
     "output_type": "display_data"
    }
   ],
   "source": [
    "a = np.loadtxt(\"waddensea_discharge.txt\")\n",
    "time = np.zeros(19)\n",
    "level = np.zeros(19)\n",
    "for i in range(len(a)):\n",
    "    time[i+1] = i+1\n",
    "    level[i+1] = level[i] + a[i]/10000000000\n",
    "    print(f\"After {i+1} hours, the waterlevel in the Wadden Sea is {level[i+1]:.3f} meters.\")\n",
    "plt.plot(time,level)\n",
    "plt.title(\"Sealevel of Wadden Sea\")\n",
    "plt.xlabel(\"Hours\")\n",
    "plt.ylabel(\"Sealevel\")"
   ]
  },
  {
   "cell_type": "markdown",
   "metadata": {},
   "source": [
    "### Finding the maximum value the hard way\n",
    "Next, let's find the maximum in the array `data` and the index of the maximum value. For illustration purposes, we will do this the hard way by using a loop and an if statement. First, we create a variable `maxvalue` that contains the maximum value and set it initially to a very small number, and we create a variable `maxindex` that is the index of the maximum value and is initially set to `None`. Next we loop through all values in `data` and update the `maxvalue` and `maxindex` everytime we find a larger value than the current `maxvalue`"
   ]
  },
  {
   "cell_type": "code",
   "execution_count": 15,
   "metadata": {},
   "outputs": [
    {
     "name": "stdout",
     "output_type": "stream",
     "text": [
      "the maximum value is  7\n",
      "the index of the maximum value is  4\n"
     ]
    }
   ],
   "source": [
    "maxvalue = -1e8\n",
    "maxindex = None\n",
    "for i in range(len(data)):\n",
    "    if data[i] > maxvalue:\n",
    "        maxvalue = data[i]\n",
    "        maxindex = i\n",
    "print('the maximum value is ', maxvalue)\n",
    "print('the index of the maximum value is ', maxindex)"
   ]
  },
  {
   "cell_type": "markdown",
   "metadata": {},
   "source": [
    "For this example, it is easy to check whether these numbers are correct by looking at the `data` array, but that becomes more difficult when the `data` array is large. There are, of course, functions available in the `numpy` package to find the maximum value and the index of the maximum value: `np.max` returns the maximum value of an array, and `np.argmax` returns the index of the maximum of the array. There are similar functions for the mimimum value."
   ]
  },
  {
   "cell_type": "code",
   "execution_count": 16,
   "metadata": {},
   "outputs": [
    {
     "name": "stdout",
     "output_type": "stream",
     "text": [
      "the maximum value is  7\n",
      "the index of the maximum value is  4\n"
     ]
    }
   ],
   "source": [
    "print('the maximum value is ', np.max(data))\n",
    "print('the index of the maximum value is ', np.argmax(data))"
   ]
  },
  {
   "cell_type": "markdown",
   "metadata": {},
   "source": [
    "### Exercise 4, Mean of earthquakes\n",
    "Compute the mean of the earthquake magnitudes of Exercise 2 using a loop (so you can not use any `numpy` functions except for `loadtxt` to load the data). Print the result to the screen with 2 decimal places. On the next line, compute and print to the screen the mean computed with `np.mean`."
   ]
  },
  {
   "cell_type": "code",
   "execution_count": 17,
   "metadata": {},
   "outputs": [
    {
     "name": "stdout",
     "output_type": "stream",
     "text": [
      "The mean value of earthquakes is 5.06\n",
      "The mean value of earthquakes is 5.06\n"
     ]
    }
   ],
   "source": [
    "a = np.loadtxt(\"richtermagnitudes_nb3.txt\")\n",
    "Earthquakes = 0\n",
    "for i in a:\n",
    "    Earthquakes += i\n",
    "print(f\"The mean value of earthquakes is {Earthquakes/len(a):.2f}\")\n",
    "print(f\"The mean value of earthquakes is {np.mean(a):.2f}\")"
   ]
  },
  {
   "cell_type": "markdown",
   "metadata": {},
   "source": [
    "### Nested loops\n",
    "It is also possible to have loops inside loops. These are called nested loops. For example, consider the array `data` with 3 rows and 4 columns shown below. We want to compute the sum of the values in each row (so we sum the columns) and we are going to do this using a double loop. First, we make an array of zeros called `rowtotal` of length 3 (one value for each row of the array `data`). Next, we loop through each row. For each row inside the loop, we start another loop that goes through all the columns and adds the value to the array `rowtotal` for that row."
   ]
  },
  {
   "cell_type": "code",
   "execution_count": 18,
   "metadata": {},
   "outputs": [
    {
     "name": "stdout",
     "output_type": "stream",
     "text": [
      "[11. 22. 18.]\n"
     ]
    }
   ],
   "source": [
    "data = np.array([[1, 2, 3, 5],\n",
    "                 [4, 8, 6, 4],\n",
    "                 [3, 5, 4, 6]])\n",
    "rowtotal = np.zeros(3)\n",
    "for irow in range(3):\n",
    "    for jcol in range(4):\n",
    "        rowtotal[irow] += data[irow, jcol]\n",
    "        #longer alternative:\n",
    "        #rowtotal[irow] = rowtotal[irow] + data[irow, jcol]\n",
    "print(rowtotal)"
   ]
  },
  {
   "cell_type": "markdown",
   "metadata": {},
   "source": [
    "After running the code above, first make sure that the answer is correct. Next, note that it is important to set the values of `rowtotal` to 0 before starting the loops, as we add to these values to compute the sum of each row. In the code, we use two loops, so we indented twice. \n",
    "\n",
    "`numpy` has a `sum` function that can compute the sum of an entire array, or the sum along one of the axes (for example along the rows or columns) by specifying the `axis` keyword. "
   ]
  },
  {
   "cell_type": "code",
   "execution_count": 20,
   "metadata": {},
   "outputs": [
    {
     "name": "stdout",
     "output_type": "stream",
     "text": [
      "[[1 2 3 5]\n",
      " [4 8 6 4]\n",
      " [3 5 4 6]]\n",
      "sum of entire array: 51\n",
      "sum rows (axis=0): [ 8 15 13 15]\n",
      "sum columns (axis=1): [11 22 18]\n"
     ]
    }
   ],
   "source": [
    "print(data)\n",
    "print('sum of entire array:', np.sum(data))\n",
    "print('sum rows (axis=0):', np.sum(data, axis=0))\n",
    "print('sum columns (axis=1):', np.sum(data, axis=1))"
   ]
  },
  {
   "cell_type": "markdown",
   "metadata": {},
   "source": [
    "### Exercise 5. Expression for the fourth power\n",
    "\n",
    "The fourth power of an arbitrary integer $n$ can be computed with the following summation:\n",
    "\n",
    "$$n^4 = \\sum_{i=1}^{n} 4i^3 - 6i^2 + 4i - 1$$ \n",
    "\n",
    "Note: In mathematical notation the $\\sum\\limits_{i=1}^n$ means summation from 1 up to *and including* $n$. Use a double loop to compute $n^4$ for $n = 2$, $n = 3$, and $n = 6$ with the above formula and print the result to the screen. Compare your result to the correct answer (they should be the same)."
   ]
  },
  {
   "cell_type": "code",
   "execution_count": null,
   "metadata": {},
   "outputs": [],
   "source": [
    "number = np.array([2, 3, 6])\n",
    "for n in number:\n",
    "    print(f\"For n = {n}, n^4 = {n**4}\")\n",
    "    summation = 0\n",
    "    for i in range(1, n+1):\n",
    "        summation += 4*(i**3)-6*(i**2)+4*i-1\n",
    "    print(f\"For n = {n}, Σ4i^3-6i^2+4i-1 = {summation}\")"
   ]
  },
  {
   "cell_type": "markdown",
   "metadata": {},
   "source": [
    "### `break` and `while`\n",
    "A common task is to find the position of a value in a sorted table (e.g., a list or array). \n",
    "For example, determine between which two numbers the number 6 falls in the ordered sequence `[1, 4, 5, 8, 9]`. \n",
    "I know, it is between `5` and `8`, but what if the list is long? \n",
    "To find the position in the list, we need to loop through the list and break out of the loop once we have found the position. For this, Python has the command `break`."
   ]
  },
  {
   "cell_type": "code",
   "execution_count": null,
   "metadata": {},
   "outputs": [],
   "source": [
    "x = [1, 4, 5, 8, 9]\n",
    "a = 6\n",
    "for i in range(len(x)):\n",
    "    if a < x[i]:\n",
    "        break\n",
    "print('a is between', x[i-1], 'and', x[i])"
   ]
  },
  {
   "cell_type": "markdown",
   "metadata": {},
   "source": [
    "There is another way to code this using a `while` loop as shown below"
   ]
  },
  {
   "cell_type": "code",
   "execution_count": null,
   "metadata": {},
   "outputs": [],
   "source": [
    "x = [1, 4, 5, 8, 9]\n",
    "a = 6\n",
    "i = 0\n",
    "while a >= x[i]:\n",
    "    i = i + 1\n",
    "print('a is between', x[i-1], 'and', x[i])"
   ]
  },
  {
   "cell_type": "markdown",
   "metadata": {},
   "source": [
    "In the `while` loop, the comparison is done at the beginning of the loop, while the counter (in this case `i`) is updated inside the loop. Either a loop with a `break` or a `while` loop with a counter works fine, but `while` loops may be tricky in some cases, as they can result in infinite loops when you have an error in your code. Once you are in an infinite loop (one that never stops), click on the [Kernel] menu item at the top of the window and select [Interrupt Kernel] or [Restart Kernel]. This will end your Python session and start a new one. When you print something to the screen in your `while` loop, it may not be possible to break out of the loop and you may need to end your Jupyter session (and potentially lose some of your work). Because of these problems with errors in `while` loops, it is recommended to use a loop with a break rather than a while loop when possible. "
   ]
  },
  {
   "cell_type": "markdown",
   "metadata": {},
   "source": [
    "### Exercise 6, <a name=\"back6\"></a>Oil data\n",
    "The file `oil_price.dat` contains the monthly oil price since 1985. The file contains three columns: year, month and price in Euros (from the european bank website). Determine the year the oil price rose above 50 euros for the first time. Use a loop and a break. Print the result to the screen as follows:\n",
    "\n",
    "`The oil price exceeds 50 euros for the first time in month x of yyyy`\n",
    "\n",
    "where you fill in the correct values of `x` and `yyyy` using f-strings and, of course, zero decimal places."
   ]
  },
  {
   "cell_type": "code",
   "execution_count": null,
   "metadata": {},
   "outputs": [],
   "source": [
    "a = np.loadtxt(\"oil_price_monthly.dat\", delimiter = \",\")\n",
    "for i in a:\n",
    "    if i[2] > 50:\n",
    "        print(f\"The oil price exceeds 50 euros for the first time in month {i[1]:.0f} of {i[0]:.0f}\")\n",
    "        break              "
   ]
  },
  {
   "cell_type": "markdown",
   "metadata": {},
   "source": [
    "### Strings\n",
    "Strings are a very versatile data type, and we can easily spend an entire Notebook on strings. \n",
    "We will only make limited use of strings, so we keep treatment here to a minimum. We already used strings to specify names along axes of a graph, or in the legend of a graph. Strings are like arrays or lists in that every character in a string has an index. Each character or range of characters can be accessed, but they cannot be changed (so they are more like tuples than arrays or lists). A string also has a length. "
   ]
  },
  {
   "cell_type": "code",
   "execution_count": null,
   "metadata": {},
   "outputs": [],
   "source": [
    "text1 = 'Goodmorning everybody'\n",
    "print(len(text1))\n",
    "print(text1[0])\n",
    "print(text1[0:12])"
   ]
  },
  {
   "cell_type": "markdown",
   "metadata": {},
   "source": [
    "When you add two strings, they are put back to back, just like lists. When you want to combine text with a variable, you first need to change the variable to a string and then add the two strings:"
   ]
  },
  {
   "cell_type": "code",
   "execution_count": null,
   "metadata": {},
   "outputs": [],
   "source": [
    "text1 = 'Goodmorning everybody'\n",
    "newtext = text1 + ' in the class'  # Adding two srings\n",
    "print(newtext)\n",
    "a = 7\n",
    "mes = 'The magic number is ' + str(a)  # Combining strings and numbers\n",
    "print(mes)"
   ]
  },
  {
   "cell_type": "markdown",
   "metadata": {},
   "source": [
    "Comparisons work on strings just like they work on numbers. The comparison starts with the first character in a string and only goes to the next character when the first characters of both strings are equal. The letter 'a' is smaller than 'b', 'b' is smaller than 'c', etc. But be careful, in the order of things, the upper case characters are smaller than all lower case characters! So 'A' is smaller than 'a', but also smaller than 'm' or any other lower case character. Make sure you understand the following statements"
   ]
  },
  {
   "cell_type": "code",
   "execution_count": null,
   "metadata": {},
   "outputs": [],
   "source": [
    "print('delft' < 'eindhoven')  # True as 'd' is smaller than 'e'\n",
    "print('dalft' < 'delft')      # True as 'a' is smaller than 'e'\n",
    "print('delft' == 'Delft')     # False as lower and upper case are not equal\n",
    "print('Delft' < 'delft')      # True as 'D' is smaller than 'd'\n",
    "print('delft' > 'Eindhoven')  # Also True, as 'd' is larger than 'E' or any other upper case character"
   ]
  },
  {
   "cell_type": "markdown",
   "metadata": {},
   "source": [
    "Strings can be converted to upper or lower case"
   ]
  },
  {
   "cell_type": "code",
   "execution_count": null,
   "metadata": {},
   "outputs": [],
   "source": [
    "TU = 'TU Delft'\n",
    "print(TU)\n",
    "print(TU.lower())\n",
    "print(TU.upper())"
   ]
  },
  {
   "cell_type": "markdown",
   "metadata": {},
   "source": [
    "A string consisting of multiple words can be converted into a list of words using `split`"
   ]
  },
  {
   "cell_type": "code",
   "execution_count": null,
   "metadata": {},
   "outputs": [],
   "source": [
    "sentence = 'This is a sentence containing a number of words'\n",
    "print('This is the sentence:', sentence)\n",
    "wordlist = sentence.split()\n",
    "print('This is the split sentence:', wordlist)\n",
    "print('All words may be printed seperately:')\n",
    "for word in wordlist:\n",
    "    print(word)"
   ]
  },
  {
   "cell_type": "markdown",
   "metadata": {},
   "source": [
    "### Exercise 7, Spelling your name\n",
    "The NATO spelling alphabet is provided in the file `NATO_alphabet_nb3.txt` (read [here](https://en.wikipedia.org/wiki/NATO_phonetic_alphabet) to find out more about the NATO spelling alphabet).\n",
    "\n",
    "Print your first name to the screen. Next, use a nested loop to spell your name using the Nato spelling alphabet. So if you name is `Mark`, your double loop should print to the screen\n",
    "\n",
    "`My name is Mark\n",
    "Mike\n",
    "Alfa\n",
    "Romeo\n",
    "Kilo`\n",
    "\n",
    "Hint: use the `str.lower()` to convert letters to lower case."
   ]
  },
  {
   "cell_type": "code",
   "execution_count": null,
   "metadata": {},
   "outputs": [],
   "source": [
    "NATO = np.loadtxt('NATO_alphabet_nb3.txt', dtype=str, delimiter=',')\n",
    "name = \"Yukun\"\n",
    "print(f\"My name is {name}\", end = \" \")\n",
    "for i in range(0,len(name)):\n",
    "    for j in NATO:\n",
    "        if name.upper()[i] == j[0]:\n",
    "            print(j, end = \" \")"
   ]
  },
  {
   "cell_type": "markdown",
   "metadata": {},
   "source": [
    "Bonus question: Modify your code such that it prints everything on one line:\n",
    "\n",
    "`My name is Mark, which is spelled: Mike, Alfa, Romeo, Kilo`. \n",
    "\n",
    "Hint: Use the keyword argument `end=' '` of the `print` function so that the next print statement does not appear on the next line."
   ]
  },
  {
   "cell_type": "code",
   "execution_count": null,
   "metadata": {},
   "outputs": [],
   "source": [
    "NATO = np.loadtxt('NATO_alphabet_nb3.txt', dtype=str, delimiter=',')\n",
    "name = \"Yukun\"\n",
    "print(f\"My name is {name}, which is spelled:\", end = \" \")\n",
    "for i in range(0,len(name)):\n",
    "    for j in NATO:\n",
    "        if name.upper()[i] == j[0]:\n",
    "            if i != len(name)-1:\n",
    "                print(j, end = \", \")\n",
    "            else:\n",
    "                print(j, end = \".\")"
   ]
  },
  {
   "cell_type": "code",
   "execution_count": null,
   "metadata": {},
   "outputs": [],
   "source": []
  }
 ],
 "metadata": {
  "kernelspec": {
   "display_name": "Python 3",
   "language": "python",
   "name": "python3"
  },
  "language_info": {
   "codemirror_mode": {
    "name": "ipython",
    "version": 3
   },
   "file_extension": ".py",
   "mimetype": "text/x-python",
   "name": "python",
   "nbconvert_exporter": "python",
   "pygments_lexer": "ipython3",
   "version": "3.8.8"
  },
  "latex_envs": {
   "LaTeX_envs_menu_present": true,
   "autoclose": false,
   "autocomplete": true,
   "bibliofile": "biblio.bib",
   "cite_by": "apalike",
   "current_citInitial": 1,
   "eqLabelWithNumbers": true,
   "eqNumInitial": 1,
   "hotkeys": {
    "equation": "Ctrl-E",
    "itemize": "Ctrl-I"
   },
   "labels_anchors": false,
   "latex_user_defs": false,
   "report_style_numbering": false,
   "user_envs_cfg": false
  },
  "varInspector": {
   "cols": {
    "lenName": 16,
    "lenType": 16,
    "lenVar": 40
   },
   "kernels_config": {
    "python": {
     "delete_cmd_postfix": "",
     "delete_cmd_prefix": "del ",
     "library": "var_list.py",
     "varRefreshCmd": "print(var_dic_list())"
    },
    "r": {
     "delete_cmd_postfix": ") ",
     "delete_cmd_prefix": "rm(",
     "library": "var_list.r",
     "varRefreshCmd": "cat(var_dic_list()) "
    }
   },
   "types_to_exclude": [
    "module",
    "function",
    "builtin_function_or_method",
    "instance",
    "_Feature"
   ],
   "window_display": false
  }
 },
 "nbformat": 4,
 "nbformat_minor": 4
}
