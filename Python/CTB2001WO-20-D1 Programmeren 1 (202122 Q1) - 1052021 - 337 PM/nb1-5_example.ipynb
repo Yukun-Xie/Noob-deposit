{
 "cells": [
  {
   "cell_type": "markdown",
   "metadata": {},
   "source": [
    "<figure>\n",
    "  <IMG SRC=\"https://raw.githubusercontent.com/mbakker7/exploratory_computing_with_python/master/tudelft_logo.png\" WIDTH=250 ALIGN=\"right\">\n",
    "</figure>\n",
    "\n",
    "# Exploratory Computing with Python\n",
    "*Developed by Mark Bakker*"
   ]
  },
  {
   "cell_type": "markdown",
   "metadata": {},
   "source": [
    "###  <a name=\"ex1\"></a>Exercise 1\n",
    "\n",
    "Write a function that plots a square centered at the origin. The length of the side of the square is $L$. The input of the function is the length $L$. \n",
    "\n",
    "Next, write a loop that calls your function for $L$ going from 1 up to and including 5 with steps of 1. \n",
    "Use `plt.axis('scaled')` to make sure your squares look like squares and not rectangles."
   ]
  },
  {
   "cell_type": "code",
   "execution_count": 17,
   "metadata": {},
   "outputs": [
    {
     "data": {
      "image/png": "[encoded data removed]",
      "text/plain": [
       "<Figure size 432x288 with 1 Axes>"
      ]
     },
     "metadata": {
      "needs_background": "light"
     },
     "output_type": "display_data"
    }
   ],
   "source": [
    "%matplotlib inline\n",
    "import numpy as np\n",
    "import matplotlib.pyplot as plt\n",
    "def square(L):\n",
    "    x_length = np.linspace(-L / 2, L / 2, 50)\n",
    "    y_length = L / 2 * np.ones(50)\n",
    "    plt.plot(x_length, -y_length, \"r\")\n",
    "    plt.plot(x_length, y_length, \"r\")\n",
    "    plt.plot(-y_length, x_length, \"r\")\n",
    "    plt.plot(y_length, x_length, \"r\")\n",
    "for i in range(1, 6, 1):\n",
    "    square(i)\n",
    "plt.axis(\"scaled\");"
   ]
  },
  {
   "cell_type": "markdown",
   "metadata": {},
   "source": [
    "<a href=\"#ex1answer\">Answer to Exercise 1</a>"
   ]
  },
  {
   "cell_type": "markdown",
   "metadata": {},
   "source": [
    "### <a name=\"ex2\"></a>Exercise 2\n",
    "Write a function called `countsquares` that takes as input the filename of a file that consists of a bunch of numbers separated by spaces. Inside the function, you must first read the numbers from the filename and then you must  determine how many of these numbers are a perfect square. A perfect square means that the root of the number is an integer (i.e., 1, 4, 16, 25, etc.). The function returns the number of perfect squares in the file. Note: to convert a number to an integer, use the `int` function. \n",
    "\n",
    "Demonstrate that your function works by using the file `numbers_nb1-5.txt` and execute the following line of code:\n",
    "\n",
    "`print(countsquares('numbers_nb1-5.txt'), 'numbers are perfect squares')`"
   ]
  },
  {
   "cell_type": "code",
   "execution_count": 34,
   "metadata": {},
   "outputs": [
    {
     "name": "stdout",
     "output_type": "stream",
     "text": [
      "93 numbers are perfect squares\n"
     ]
    }
   ],
   "source": [
    "def countsquares(a):\n",
    "    b = np.loadtxt(a)\n",
    "    c = np.sqrt(b)\n",
    "    i = 0\n",
    "    for n in c:\n",
    "        if n % 1 == 0:\n",
    "            i += 1\n",
    "    return i\n",
    "print(countsquares(\"numbers_nb1-5.txt\"), 'numbers are perfect squares')"
   ]
  },
  {
   "cell_type": "markdown",
   "metadata": {},
   "source": [
    "<a href=\"#ex2answer\">Answer to Exercise 2</a>"
   ]
  },
  {
   "cell_type": "markdown",
   "metadata": {},
   "source": [
    "### <a name=\"ex3\"></a>Exercise 3\n",
    "The file `quiz_answers.dat` contains the result of a small multiple-choice quiz with 8 questions. Every row contains the 8 answers to the quiz of one of the students. Your job is to count how many students had the correct answer for each question. Write a double loop to compute the number of correct answers for each question and present the results in a bar graph.  The correct answers for the 8 questions of the quiz are: `a b c d a b c d`"
   ]
  },
  {
   "cell_type": "code",
   "execution_count": 71,
   "metadata": {},
   "outputs": [
    {
     "name": "stdout",
     "output_type": "stream",
     "text": [
      "4 students had the correct answer for the question 1\n",
      "4 students had the correct answer for the question 2\n",
      "5 students had the correct answer for the question 3\n",
      "3 students had the correct answer for the question 4\n",
      "5 students had the correct answer for the question 5\n",
      "5 students had the correct answer for the question 6\n",
      "4 students had the correct answer for the question 7\n",
      "4 students had the correct answer for the question 8\n"
     ]
    },
    {
     "data": {
      "image/png": "[encoded data removed]",
      "text/plain": [
       "<Figure size 432x288 with 1 Axes>"
      ]
     },
     "metadata": {
      "needs_background": "light"
     },
     "output_type": "display_data"
    }
   ],
   "source": [
    "b = np.genfromtxt(\"quiz_answers.dat\", dtype = str)\n",
    "answer = [\"a\", \"b\", \"c\", \"d\", \"a\", \"b\", \"c\", \"d\"]\n",
    "cor = np.zeros(8)\n",
    "for i in range(len(b)):\n",
    "    for j in range(len(b[0])):\n",
    "        if b[i][j] == answer[j]:\n",
    "            cor[j] += 1\n",
    "for i in range(len(cor)):\n",
    "    print(f\"{cor[i]:.0f} students had the correct answer for the question {i+1}\")\n",
    "    plt.bar(i, cor[i])"
   ]
  },
  {
   "cell_type": "markdown",
   "metadata": {},
   "source": [
    "<a href=\"#ex3answer\">Answer to Exercise 3</a>"
   ]
  },
  {
   "cell_type": "markdown",
   "metadata": {},
   "source": [
    "###  <a name=\"ex4\"></a>Exercise 4\n",
    "Create the flag of Norway as shown in the figure below.\n",
    "\n",
    "<img src=\"flag_norway.png\">\n",
    "\n",
    "Create an array of size 40 by 55. Fill the array with zeros, ones and two-s to represent the blue, white, and red parts, respectively. You may only use a maximum of 5 assignment statements to set the correct values for the colors. Make sure you plot the flag using the colormap `bwr` (which stands for blue-white-red)."
   ]
  },
  {
   "cell_type": "code",
   "execution_count": 82,
   "metadata": {},
   "outputs": [
    {
     "data": {
      "text/plain": [
       "<matplotlib.image.AxesImage at 0x1c1f6225880>"
      ]
     },
     "execution_count": 82,
     "metadata": {},
     "output_type": "execute_result"
    },
    {
     "data": {
      "image/png": "[encoded data removed]",
      "text/plain": [
       "<Figure size 396x288 with 1 Axes>"
      ]
     },
     "metadata": {
      "needs_background": "light"
     },
     "output_type": "display_data"
    }
   ],
   "source": [
    "a = 2 * np.ones((40, 55))\n",
    "a[16:26] = 1\n",
    "a[ : , 16:26] = 1\n",
    "a[18:24] = 0\n",
    "a[ : , 18:24] = 0\n",
    "plt.matshow(a, cmap = \"bwr\")"
   ]
  },
  {
   "cell_type": "markdown",
   "metadata": {},
   "source": [
    "<a href=\"#ex4answer\">Answer to Exercise 4</a>"
   ]
  },
  {
   "cell_type": "markdown",
   "metadata": {},
   "source": [
    "### <a name=\"ex5\"></a>Exercise 5\n",
    "Write a function that computes the percentage of grades that is above a given value. The function takes as input arguments an array with grades between 1 and 10 and a minimum value and returns the precentage of grades (so between 0% and 100%) that are above or equal to that value. Demonstrate that your function works by loading the grades in the file `schoolgrades_nb1-5.txt` and print the result of the function to the screen, given a minimum value of 7."
   ]
  },
  {
   "cell_type": "code",
   "execution_count": 91,
   "metadata": {},
   "outputs": [
    {
     "name": "stdout",
     "output_type": "stream",
     "text": [
      "31.3% of grades are above 7\n"
     ]
    }
   ],
   "source": [
    "a = np.loadtxt(\"schoolgrades_nb1-5.txt\")\n",
    "s = len(a[a >= 7])\n",
    "print(f\"{s * 100 / len(a):.1f}% of grades are above 7\")"
   ]
  },
  {
   "cell_type": "markdown",
   "metadata": {},
   "source": [
    "<a href=\"#ex5answer\">Answer to Exercise 5</a>"
   ]
  },
  {
   "cell_type": "markdown",
   "metadata": {},
   "source": [
    "### Brief answers"
   ]
  },
  {
   "cell_type": "markdown",
   "metadata": {},
   "source": [
    "<a name=\"ex1answer\">Answer to Exercise 1</a>\n",
    "\n",
    "You probably know what this should look like\n",
    "\n",
    "<a href=\"#ex1\">Back to Exercise 1</a>\n",
    "\n",
    "<a name=\"ex2answer\">Answer to Exercise 2</a>\n",
    "\n",
    "93\n",
    "\n",
    "<a href=\"#ex2\">Back to Exercise 2</a>\n",
    "\n",
    "<a name=\"ex3answer\">Answer to Exercise 3</a>\n",
    "\n",
    "Q1: 4, Q2: 4, Q3: 5, Q4: 3, Q5: 5, Q6: 5, Q7: 4, Q8: 4\n",
    "and then in a bar graph\n",
    "\n",
    "<a href=\"#ex3\">Back to Exercise 3</a>\n",
    "\n",
    "<a name=\"ex4answer\">Answer to Exercise 4</a>\n",
    "\n",
    "Your graph should look like the provided figure\n",
    "\n",
    "<a href=\"#ex4\">Back to Exercise 4</a>\n",
    "\n",
    "<a name=\"ex5answer\">Answer to Exercise 5</a>\n",
    "\n",
    "31.3\n",
    "\n",
    "<a href=\"#ex5\">Back to Exercise 5</a>"
   ]
  }
 ],
 "metadata": {
  "anaconda-cloud": {},
  "kernelspec": {
   "display_name": "Python 3",
   "language": "python",
   "name": "python3"
  },
  "language_info": {
   "codemirror_mode": {
    "name": "ipython",
    "version": 3
   },
   "file_extension": ".py",
   "mimetype": "text/x-python",
   "name": "python",
   "nbconvert_exporter": "python",
   "pygments_lexer": "ipython3",
   "version": "3.8.8"
  },
  "latex_envs": {
   "LaTeX_envs_menu_present": true,
   "autoclose": false,
   "autocomplete": true,
   "bibliofile": "biblio.bib",
   "cite_by": "apalike",
   "current_citInitial": 1,
   "eqLabelWithNumbers": true,
   "eqNumInitial": 1,
   "hotkeys": {
    "equation": "Ctrl-E",
    "itemize": "Ctrl-I"
   },
   "labels_anchors": false,
   "latex_user_defs": false,
   "report_style_numbering": false,
   "user_envs_cfg": false
  }
 },
 "nbformat": 4,
 "nbformat_minor": 4
}
