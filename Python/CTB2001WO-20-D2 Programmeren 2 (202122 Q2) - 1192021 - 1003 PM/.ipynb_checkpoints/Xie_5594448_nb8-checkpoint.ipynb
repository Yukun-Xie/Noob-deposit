{
 "cells": [
  {
   "cell_type": "markdown",
   "metadata": {},
   "source": [
    "<figure>\n",
    "  <IMG SRC=\"https://raw.githubusercontent.com/mbakker7/exploratory_computing_with_python/master/tudelft_logo.png\" WIDTH=250 ALIGN=\"right\">\n",
    "</figure>\n",
    "\n",
    "# Exploratory Computing with Python\n",
    "*Developed by Mark Bakker with questions by Eefje Benschop*\n",
    "## Notebook 8: Systems of linear equations"
   ]
  },
  {
   "cell_type": "markdown",
   "metadata": {},
   "source": [
    "In this Notebook, we learn how to build and solve systems of linear equations, and we learn a few new (and very useful) `numpy` functions."
   ]
  },
  {
   "cell_type": "code",
   "execution_count": 1,
   "metadata": {},
   "outputs": [],
   "source": [
    "%matplotlib inline\n",
    "import numpy as np\n",
    "import matplotlib.pyplot as plt"
   ]
  },
  {
   "cell_type": "markdown",
   "metadata": {},
   "source": [
    "### Building and solving a system of linear equations\n",
    "A parabola is defined by three points (provided they are not on a straight line). \n",
    "The equation for a parabola is $y=ax^2+bx+c$, where $a$, $b$, and $c$ are constants.\n",
    "Given three points $(x_1,y_1)$, $(x_2,y_2)$, $(x_3,y_3)$, the following system of three linear equations may be compiled\n",
    "\n",
    "$\n",
    "\\begin{split}\n",
    "x_1^2a+x_1b+c&=y_1 \\\\\n",
    "x_2^2a+x_2b+c&=y_2 \\\\\n",
    "x_3^2a+x_3b+c&=y_3 \\\\\n",
    "\\end{split}\n",
    "$\n",
    "\n",
    "Or in matrix form\n",
    "\n",
    "$\n",
    "\\left(\n",
    "\\begin{array}{ccc}\n",
    "x_1^2 & x_1 & 1 \\\\\n",
    "x_2^2 & x_2 & 1 \\\\\n",
    "x_3^2 & x_3 & 1 \\\\\n",
    "\\end{array}\n",
    "\\right)\n",
    "\\left(\n",
    "\\begin{array}{c}\n",
    "a \\\\b \\\\c \\\\\n",
    "\\end{array}\n",
    "\\right)\n",
    "=\n",
    "\\left(\n",
    "\\begin{array}{c}\n",
    "y_1 \\\\\n",
    "y_2 \\\\\n",
    "y_3 \\\\\n",
    "\\end{array}\n",
    "\\right)\n",
    "$\n",
    "\n",
    "To solve this problem, we build a two-dimensional array containing the matrix (called `matrix`) and a one-dimensional array containing the right-hand side (called `rhs`).\n",
    "Let's do that for the three points $(x_1,y_1)=(-2,2)$, $(x_2,y_2)=(1,-1)$, $(x_3,y_3)=(4,4)$"
   ]
  },
  {
   "cell_type": "code",
   "execution_count": 2,
   "metadata": {},
   "outputs": [
    {
     "name": "stdout",
     "output_type": "stream",
     "text": [
      "matrix:\n",
      "[[ 4. -2.  1.]\n",
      " [ 1.  1.  1.]\n",
      " [16.  4.  1.]]\n",
      "rhs: [ 2. -1.  4.]\n"
     ]
    }
   ],
   "source": [
    "xp = np.array([-2, 1, 4])\n",
    "yp = np.array([2, -1, 4])\n",
    "matrix = np.zeros((3, 3))\n",
    "rhs = np.zeros(3)\n",
    "for i in range(3):\n",
    "    matrix[i] = xp[i] ** 2, xp[i], 1  # Store one row at a time\n",
    "    rhs[i] = yp[i]\n",
    "print('matrix:')\n",
    "print(matrix)\n",
    "print('rhs:',rhs)"
   ]
  },
  {
   "cell_type": "markdown",
   "metadata": {},
   "source": [
    "The system may be solved with the `solve` method, which is part of the `linalg` subpackage of `numpy`. The `solve` method takes as input a two-dimensional array (the matrix) and a one-dimensional array (the right-hand side) and returns the solution. To check whether the solution is correct, we need to do a matrix multiply of the matrix stored in the array `matrix` and the obtained solution, which we call `sol`. As we learned, `matrix * sol` does a term-by-term multiplication. For a matrix multiply, the `@` symbol needs to be used as in `matrix @ sol`."
   ]
  },
  {
   "cell_type": "code",
   "execution_count": 3,
   "metadata": {},
   "outputs": [
    {
     "name": "stdout",
     "output_type": "stream",
     "text": [
      "solution is: [ 0.44444444 -0.55555556 -0.88888889]\n",
      "specified values of y: [ 2 -1  4]\n",
      "matrix @ sol: [ 2. -1.  4.]\n"
     ]
    }
   ],
   "source": [
    "sol = np.linalg.solve(matrix, rhs)\n",
    "print('solution is:', sol)\n",
    "print('specified values of y:', yp)\n",
    "print('matrix @ sol:', matrix @ sol)"
   ]
  },
  {
   "cell_type": "markdown",
   "metadata": {},
   "source": [
    "We can also visually check whether we solved the problem correctly by drawing the three points and the parabola. "
   ]
  },
  {
   "cell_type": "code",
   "execution_count": 4,
   "metadata": {},
   "outputs": [
    {
     "data": {
      "image/png": "[encoded data removed]",
      "text/plain": [
       "<Figure size 432x288 with 1 Axes>"
      ]
     },
     "metadata": {
      "needs_background": "light"
     },
     "output_type": "display_data"
    }
   ],
   "source": [
    "plt.plot(xp, yp, 'ro', label='data')\n",
    "x = np.linspace(-3, 5, 100)\n",
    "y = sol[0] * x ** 2 + sol[1] * x + sol[2]\n",
    "plt.plot(x, y, label='parabola')\n",
    "plt.legend();"
   ]
  },
  {
   "cell_type": "markdown",
   "metadata": {},
   "source": [
    "### Exercise 1, Counting bikes\n",
    "Five neighbors (Taylor, Lisa, Peter, Dan, and Lucia) and their families use a shared place to store their bikes. The sixth neighbor has just moved into the neighborhood and their daughter, Ann, tries to figure out how many bikes each neighbor has. For five nights, she counts the total number of bikes and checks to see where the lights are on, so she knows who is at home. Assume all people in a house are either at home or all people are not at home. Ann gathered the following information:\n",
    "\n",
    "* The first day, lights are on in the houses of Taylor and Peter and there are 4 bikes parked. \n",
    "* The second day, Lisa, Peter and Lucia have lights on and Ann counts 5 bikes.\n",
    "* The third day, Ann counts 3 bikes while lights are on at Peter's and Dan's.\n",
    "* The fourth day lights are only out at Taylor's and there are 7 bikes parked.\n",
    "* The last day Ann spots 6 bikes and everybody is home except Lucia.\n",
    "\n",
    "Build and solve a system of five equations and five unknowns to determine the number of bikes in each household. Use a loop to print to the screen the name of each neighbor and the number of bikes. Use f-strings and print the numbers as integers (zero decimal places)."
   ]
  },
  {
   "cell_type": "code",
   "execution_count": 5,
   "metadata": {},
   "outputs": [
    {
     "name": "stdout",
     "output_type": "stream",
     "text": [
      "Taylor have 3 bikes\n",
      "Lisa have 0 bikes\n",
      "Peter have 1 bikes\n",
      "Dan have 2 bikes\n",
      "Lucia have 4 bikes\n"
     ]
    }
   ],
   "source": [
    "neighbor = np.array([[1, 0, 1, 0, 0], [0, 1, 1, 0, 1], [0, 0, 1, 1, 0], [0, 1, 1, 1, 1], [1, 1, 1, 1, 0]])\n",
    "bike = np.array([4, 5, 3, 7, 6]) \n",
    "ownership = np.linalg.solve(neighbor, bike)\n",
    "name = [\"Taylor\", \"Lisa\", \"Peter\", \"Dan\", \"Lucia\"]\n",
    "for i in range(5):\n",
    "     print(f\"{name[i]} have {ownership[i]:.0f} bikes\")"
   ]
  },
  {
   "cell_type": "markdown",
   "metadata": {},
   "source": [
    "### The inverse of a matrix\n",
    "Sometimes it is beneficial to compute and store the inverse of a matrix rather than only the solution of the system of equations, for example when the inverse is used to compute many solutions. The inverse of a matrix may be computed with the `inv` function of the `linalg` package. If the inverse of matrix `A` is called `Ainv`, the solution may be obtained through matrix multiplication of `Ainv` with the right-hand side. For example, for the example of fitting a parabola through three points, the inverse of the matrix can be computed to obtain a solution as follows: "
   ]
  },
  {
   "cell_type": "code",
   "execution_count": 6,
   "metadata": {},
   "outputs": [
    {
     "name": "stdout",
     "output_type": "stream",
     "text": [
      "sol with solve:   [ 0.44444444 -0.55555556 -0.88888889]\n",
      "sol with inverse: [ 0.44444444 -0.55555556 -0.88888889]\n"
     ]
    }
   ],
   "source": [
    "A = np.array([[ 4, -2, 1],\n",
    "              [ 1,  1, 1],\n",
    "              [16,  4, 1]])\n",
    "rhs = np.array([2, -1, 4])\n",
    "sol = np.linalg.solve(A, rhs)\n",
    "print('sol with solve:  ', sol)\n",
    "Ainv = np.linalg.inv(A)\n",
    "sol = Ainv @ rhs\n",
    "print('sol with inverse:', sol)"
   ]
  },
  {
   "cell_type": "markdown",
   "metadata": {},
   "source": [
    "### Exercise 2. Fitting a wave\n",
    "Consider the following four measurements of the quantity $y$ at time $t$: $(t_0,y_0)=(0,3)$, $(t_1,y_1)=(0.25,1)$, $(t_2,y_2)=(0.5,-3)$, $(t_3,y_3)=(0.75,1)$. The measurements are part of a wave that may be written as\n",
    "\n",
    "$$y = a + b\\cos(\\pi t) + c\\cos(2\\pi t) + d\\cos(3\\pi t)$$\n",
    "\n",
    "where $a$, $b$, $c$, and $d$ are parameters. Build a system of four linear equations and solve for the four parameters. Create a plot of the wave for $t$ going from 0 to 1 and show the four measurements with dots."
   ]
  },
  {
   "cell_type": "code",
   "execution_count": 7,
   "metadata": {},
   "outputs": [
    {
     "data": {
      "text/plain": [
       "<matplotlib.legend.Legend at 0x1f4c26f09a0>"
      ]
     },
     "execution_count": 7,
     "metadata": {},
     "output_type": "execute_result"
    },
    {
     "data": {
      "image/png": "[encoded data removed]",
      "text/plain": [
       "<Figure size 432x288 with 1 Axes>"
      ]
     },
     "metadata": {
      "needs_background": "light"
     },
     "output_type": "display_data"
    }
   ],
   "source": [
    "x = np.array([0, 0.25, 0.5, 0.75])\n",
    "y = np.array([3, 1, -3, 1])\n",
    "matrix = np.zeros((4, 4))\n",
    "for i in range(4):\n",
    "    matrix[i] = 1, np.cos(np.pi * x[i]), np.cos(2 * np.pi * x[i]), np.cos(3 * np.pi * x[i])\n",
    "sol = np.linalg.solve(matrix, y)\n",
    "a = np.linspace(0, 1, 100)\n",
    "b = sol[0] + sol[1] * np.cos(np.pi * a) + sol[2] * np.cos(2 * np.pi * a) + sol[3] * np.cos(3 * np.pi * a)\n",
    "plt.plot(a, b, label='parabola')\n",
    "plt.plot(x, y, \"ro\", label = \"dots\")\n",
    "plt.legend()"
   ]
  },
  {
   "cell_type": "markdown",
   "metadata": {},
   "source": [
    "### More equations than unknowns"
   ]
  },
  {
   "cell_type": "markdown",
   "metadata": {},
   "source": [
    "What now if you have more equations than unknowns? For example, what if you have 6 points in time where you have measured the quantity $y$, but you still want to fit a wave with four periods (and four parameters). In general, there is no solution to a system of 6 equations with 4 unknowns, unless you are very lucky. A common approach is to try to find the four parameters that fit the 6 equations as good as possible. One way to do this is to find the four parameters such that the sum of the squares of the errors between the specified right-hand-side and the computed right-hand-side is as small as possible. It is very easy to do this with `numpy`. You can simply specify a matrix with $M$ rows and $N$ colums where $M$ is larger than $N$ (so more rows than columns). Combined with a right-hand-side with $M$ values, you can find a least-squares solution that best fits the equations. Use the `np.linalg.lstsq` function to compute a solution. Note that the `np.linalg.lstsq` solution returns four things, of which the first one is the least squares solution (use `np.linalg.lstsq?` to find out what else is returned)."
   ]
  },
  {
   "cell_type": "markdown",
   "metadata": {},
   "source": [
    "### Exercise 3. Fitting a wave with more points\n",
    "Consider the following six measurements of the quantity $y$ at time $t$: $(t_0,y_0)=(0,3)$, $(t_1,y_1)=(0.2,1)$, $(t_2,y_2)=(0.4,-3)$, $(t_3,y_3)=(0.6,1)$, $(t_4,y_4)=(0.8,3)$, $(t_5,y_5)=(1,2)$. The measurements are part of the same wave as in Exercise 2:\n",
    "\n",
    "$$y = a + b\\cos(\\pi t) + c\\cos(2\\pi t) + d\\cos(3\\pi t)$$\n",
    "\n",
    "Build a system of six linear equations for 4 unknown parameters and solve for the four parameters in a least squares sense. Create a plot of the wave for $t$ going from 0 to 1 and show the six measurements with dots. If you get a `FutureWaring`, add the keyword argument `rcond=None` to `np.linalg.lstsq`. "
   ]
  },
  {
   "cell_type": "code",
   "execution_count": 8,
   "metadata": {},
   "outputs": [
    {
     "data": {
      "text/plain": [
       "<matplotlib.legend.Legend at 0x1f4c275c4f0>"
      ]
     },
     "execution_count": 8,
     "metadata": {},
     "output_type": "execute_result"
    },
    {
     "data": {
      "image/png": "[encoded data removed]",
      "text/plain": [
       "<Figure size 432x288 with 1 Axes>"
      ]
     },
     "metadata": {
      "needs_background": "light"
     },
     "output_type": "display_data"
    }
   ],
   "source": [
    "x = np.array([0, 0.2, 0.4, 0.6, 0.8, 1])\n",
    "y = np.array([3, 1, -3, 1, 3, 2])\n",
    "matrix = np.zeros((6, 4))\n",
    "for i in range(6):\n",
    "    matrix[i] = 1, np.cos(np.pi * x[i]), np.cos(2 * np.pi * x[i]), np.cos(3 * np.pi * x[i])\n",
    "sol = np.linalg.lstsq(matrix, y, rcond = None)[0]\n",
    "a = np.linspace(0, 1, 100)\n",
    "b = sol[0] + sol[1] * np.cos(np.pi * a) + sol[2] * np.cos(2 * np.pi * a) + sol[3] * np.cos(3 * np.pi * a)\n",
    "plt.plot(a, b, label='parabola')\n",
    "plt.plot(x, y, \"ro\", label = \"dots\")\n",
    "plt.legend()"
   ]
  },
  {
   "cell_type": "markdown",
   "metadata": {},
   "source": [
    "### Packages and .py files\n",
    "As you already know, there are many Python packages. The Anaconda distribution includes a (large) set of the most popular packages, which were installed on your machine when you installed Anaconda. You already used several of these packages, like `numpy`, `matplotlib`, and `scipy`. \n",
    "\n",
    "Each package consists of a number of Python files with the extension `.py`. These are text files with Python code. We will write our own Python files in a later notebook. To use functions in a Python file, you first have to import the file, just like you import a package. \n",
    "\n",
    "The following exercises make use of a function defined in a separate Python file. You can open (and edit) the Python file in Jupyter Lab by double clicking on the file in the left sidebar. "
   ]
  },
  {
   "cell_type": "markdown",
   "metadata": {},
   "source": [
    "### Exercise 4, Student hours programming\n",
    "Consider a bunch of students living in a few student houses. The students keep track of the number of hours they are spending (enjoying!) programming in Python each week. You are asked to write a Python function to compute which person has spent the most hours programming. \n",
    "\n",
    "Write a function that takes as input argument a 2-D array of shape number of persons (rows) by  number of weeks (columns). The function uses a loop (or a nested loop) to count the total number of hours each student has spent programming. The function returns two values: the number of the student (the number of the row) that has spent the most hours programming and the total number of hours spent programming by that student. \n",
    "\n",
    "In a new code cell, generate the data by running the function `hours_programming` in the Python file `generatedata.py` using 4 houses, 18 students in each house, and 12 weeks. Note: you are *not* allowed to copy the Python code from the `generatedata.py` file in a code cell. Loop through all the data and for each house print the statement\n",
    "\n",
    "`in house x, student y is the winner and spent z hours programming`\n",
    "\n",
    "where, of course, you print the correct values of x, y, and z. "
   ]
  },
  {
   "cell_type": "code",
   "execution_count": 9,
   "metadata": {},
   "outputs": [
    {
     "name": "stdout",
     "output_type": "stream",
     "text": [
      "in house 1, student 10 is the winner and spent 128 hours programming\n",
      "in house 2, student 3 is the winner and spent 124 hours programming\n",
      "in house 3, student 15 is the winner and spent 127 hours programming\n",
      "in house 4, student 18 is the winner and spent 130 hours programming\n"
     ]
    }
   ],
   "source": [
    "from generatedata import hours_programming as hp\n",
    "\n",
    "def programming(a):\n",
    "    b = list(np.zeros(len(a)))\n",
    "    for j in range(len(a)):\n",
    "        b[j] = np.sum(a[j])\n",
    "    return b.index(np.max(b)) + 1, np.max(b)\n",
    "\n",
    "data = hp(4, 18, 12)\n",
    "for i in range(4):\n",
    "    print(f\"in house {i + 1}, student {programming(data[i])[0]} is the winner and spent {programming(data[i])[1]:.0f} hours programming\")"
   ]
  },
  {
   "cell_type": "markdown",
   "metadata": {},
   "source": [
    "### The `%timeit` magic function\n",
    "You can time how long a computation takes by using the `%timeit` magic function. This is not a Python function, but an IPython function, which means it works in Jupyter Notebooks and other IPython consoles. For example, you can time how long it takes to compute the cosine function of 10,000 values (note how quick this is - it is probably less than 1 micro second on your computer). "
   ]
  },
  {
   "cell_type": "code",
   "execution_count": 10,
   "metadata": {},
   "outputs": [
    {
     "name": "stdout",
     "output_type": "stream",
     "text": [
      "309 ns ± 4.88 ns per loop (mean ± std. dev. of 7 runs, 1000000 loops each)\n"
     ]
    }
   ],
   "source": [
    "x = np.arange(0, np.pi, 10000)\n",
    "%timeit y = np.cos(x)"
   ]
  },
  {
   "cell_type": "markdown",
   "metadata": {},
   "source": [
    "### The `np.sum` function\n",
    "Recall that the `np.sum` function can be used to sum an array. It has a very useful keyword argument `axis` (the second argument of the function), which is the number of the axis over which to sum. For a two-dimensional array, axis 0 are the rows and axis 1 are the columns (they are index 0 and 1 of the array). For example"
   ]
  },
  {
   "cell_type": "code",
   "execution_count": 11,
   "metadata": {},
   "outputs": [
    {
     "name": "stdout",
     "output_type": "stream",
     "text": [
      "[[ 0  1  2  3]\n",
      " [ 4  5  6  7]\n",
      " [ 8  9 10 11]]\n"
     ]
    }
   ],
   "source": [
    "a = np.arange(12)\n",
    "a.shape = (3, 4)  # 3 rows, 4 columns\n",
    "print(a)"
   ]
  },
  {
   "cell_type": "code",
   "execution_count": 12,
   "metadata": {},
   "outputs": [
    {
     "name": "stdout",
     "output_type": "stream",
     "text": [
      "sum entire array:\n",
      "66\n",
      "sum the rows:\n",
      "[12 15 18 21]\n",
      "sum the columns:\n",
      "[ 6 22 38]\n"
     ]
    }
   ],
   "source": [
    "print('sum entire array:')\n",
    "print(np.sum(a))\n",
    "print('sum the rows:')\n",
    "print(np.sum(a, 0))\n",
    "print('sum the columns:')\n",
    "print(np.sum(a, 1))"
   ]
  },
  {
   "cell_type": "markdown",
   "metadata": {},
   "source": [
    "### Exercise 5, Student hours programming - revisited\n",
    "\n",
    "In Exercise 4, you wrote a function with at least one `for` loop. Now you are asked to write a new function that does the same job, but does not use any `for` loops. Give your function a different name than in Exercise 4. Test the new function with the same data.\n",
    "\n",
    "Next, run both functions for the first house of the data you generated and check which one is faster using `%timeit`. Even for this small array, it should make a significant difference."
   ]
  },
  {
   "cell_type": "code",
   "execution_count": 13,
   "metadata": {},
   "outputs": [
    {
     "name": "stdout",
     "output_type": "stream",
     "text": [
      "in house 1, student 10 is the winner and spent 128 hours programming\n",
      "in house 2, student 3 is the winner and spent 124 hours programming\n",
      "in house 3, student 15 is the winner and spent 127 hours programming\n",
      "in house 4, student 18 is the winner and spent 130 hours programming\n",
      "57.1 µs ± 1.06 µs per loop (mean ± std. dev. of 7 runs, 10000 loops each)\n",
      "12.4 µs ± 20.8 ns per loop (mean ± std. dev. of 7 runs, 100000 loops each)\n"
     ]
    }
   ],
   "source": [
    "def programming2(a):\n",
    "    b = list(np.sum(a, 1))\n",
    "    return b.index(np.max(b)) + 1, np.max(b)\n",
    "\n",
    "data = hp(4, 18, 12)\n",
    "for i in range(4):\n",
    "    print(f\"in house {i + 1}, student {programming(data[i])[0]} is the winner and spent {programming(data[i])[1]:.0f} hours programming\")\n",
    "%timeit programming(data[0])\n",
    "%timeit programming2(data[0])"
   ]
  },
  {
   "cell_type": "markdown",
   "metadata": {},
   "source": [
    "### Changing the length of a `list` or `array`\n",
    "If you don't know the length of a list beforehand, you can start with an empty list and add a value to the list whenever you want using the `.append` syntax:"
   ]
  },
  {
   "cell_type": "code",
   "execution_count": 14,
   "metadata": {},
   "outputs": [
    {
     "name": "stdout",
     "output_type": "stream",
     "text": [
      "[0, 1, 2, 3, 4]\n"
     ]
    }
   ],
   "source": [
    "alist = []\n",
    "for i in range(5):\n",
    "    alist.append(i)\n",
    "print(alist)"
   ]
  },
  {
   "cell_type": "markdown",
   "metadata": {},
   "source": [
    "The same can technically be done with an array using the `np.hstack` function that stacks two arrays by connecting the tail of one with the head of the other. This can be done for an array and a number or two arrays:"
   ]
  },
  {
   "cell_type": "code",
   "execution_count": 15,
   "metadata": {},
   "outputs": [
    {
     "name": "stdout",
     "output_type": "stream",
     "text": [
      "[0. 1. 2. 3. 4.]\n"
     ]
    }
   ],
   "source": [
    "anarray = np.array([])\n",
    "for i in range(5):\n",
    "    anarray = np.hstack((anarray, i))\n",
    "print(anarray)"
   ]
  },
  {
   "cell_type": "markdown",
   "metadata": {},
   "source": [
    "Note, however, that changing the length of a list is fast, while changing the length of an array is (very) slow and should be avoided. In the code below, the function `func1` increases the length of an array, while the function `func2` does the same but for a list. When 10 numbers are added to a list or array, the difference in computational speed is already more than a factor of 10 and it increases dramatically when more numbers are added."
   ]
  },
  {
   "cell_type": "code",
   "execution_count": 16,
   "metadata": {},
   "outputs": [],
   "source": [
    "def func1(n=10): # increase length of array n times\n",
    "    a = np.array([])\n",
    "    for i in range(n):\n",
    "        a = np.hstack((a, i))\n",
    "    return a"
   ]
  },
  {
   "cell_type": "code",
   "execution_count": 17,
   "metadata": {},
   "outputs": [],
   "source": [
    "def func2(n=10): # increase length of list n times\n",
    "    a = []\n",
    "    for i in range(n):\n",
    "        a.append(i)\n",
    "    return np.array(a)"
   ]
  },
  {
   "cell_type": "code",
   "execution_count": 18,
   "metadata": {},
   "outputs": [
    {
     "name": "stdout",
     "output_type": "stream",
     "text": [
      "adding 10 values to an array takes:\n",
      "40.8 µs ± 339 ns per loop (mean ± std. dev. of 7 runs, 10000 loops each)\n",
      "adding 10 values to a list takes:\n",
      "1.58 µs ± 18.5 ns per loop (mean ± std. dev. of 7 runs, 1000000 loops each)\n"
     ]
    }
   ],
   "source": [
    "print('adding 10 values to an array takes:')\n",
    "%timeit func1(n=10)\n",
    "print('adding 10 values to a list takes:')\n",
    "%timeit func2(n=10)"
   ]
  },
  {
   "cell_type": "code",
   "execution_count": 19,
   "metadata": {},
   "outputs": [
    {
     "name": "stdout",
     "output_type": "stream",
     "text": [
      "adding 100 values to an array takes:\n",
      "408 µs ± 7.29 µs per loop (mean ± std. dev. of 7 runs, 1000 loops each)\n",
      "adding 10 values to a list takes:\n",
      "9.56 µs ± 72.9 ns per loop (mean ± std. dev. of 7 runs, 100000 loops each)\n"
     ]
    }
   ],
   "source": [
    "print('adding 100 values to an array takes:')\n",
    "%timeit func1(n=100)\n",
    "print('adding 10 values to a list takes:')\n",
    "%timeit func2(n=100)"
   ]
  },
  {
   "cell_type": "markdown",
   "metadata": {},
   "source": [
    "You may wonder why it is so much slower to add a value to an array than to add a value to a list. The explanation requires a bit of computer science. When adding a number to a list, all Python has to do is store the new value and the location in memory of the new value. This can not be done for arrays, as all values in an array are stored in one consecutive block in memory. When adding a number to an array, Python needs to find a new block of memory that can store one additional value, then copy all current values plus the new value to this block. And that all is very slow. But there is a benefit: as arrays are stored as one block in memory, the math on arrays is lightning fast. Remember how much time it took to compute 10,000 cosine values? That was hugely impressive. "
   ]
  },
  {
   "cell_type": "markdown",
   "metadata": {},
   "source": [
    "### Exercise 6, Detecting the sick\n",
    "A disease has broken out in a hospital. The hospital has contained all 100 patients and knows their DNA sequences. The disease can be detected by an alteration in the DNA of the patient. If the DNA of a patient contains the gene `AU` the person will get sick. \n",
    "\n",
    "Load the file `DNA_sequence_nb7.txt`, which contains 1000 genes (columns) for 100 patients (rows). Use a double loop and a `break` to find the indices of the persons with the altered gene. Store the numbers of all sick persons in a list and print the final list to the screen."
   ]
  },
  {
   "cell_type": "code",
   "execution_count": 20,
   "metadata": {},
   "outputs": [
    {
     "name": "stdout",
     "output_type": "stream",
     "text": [
      "[1, 13, 22, 48, 75, 76, 98]\n"
     ]
    }
   ],
   "source": [
    "gene = np.loadtxt(\"DNA_sequence_nb7.txt\", delimiter = \",\", dtype = \"str\")\n",
    "patient = []\n",
    "for i in range(len(gene)):\n",
    "    for j in range(len(gene[0])):\n",
    "        if gene[i][j] == \"AU\":\n",
    "            patient.append(i + 1)\n",
    "            break\n",
    "print(patient)        "
   ]
  },
  {
   "cell_type": "markdown",
   "metadata": {},
   "source": [
    "### The `np.any` and `np.all` functions\n",
    "The `np.all` function returns `True` if a condition is met for *all* values in an array. Conversely, the `np.any` returns `True` if a condition is met for *any* of the values in an array (so the condition is met for at least one of the values)."
   ]
  },
  {
   "cell_type": "code",
   "execution_count": 21,
   "metadata": {},
   "outputs": [
    {
     "name": "stdout",
     "output_type": "stream",
     "text": [
      "array: [0 1 2 3 4 5 6 7 8 9]\n",
      "all values below 10: True\n",
      "all values above 3: False\n",
      "any values above 3: True\n"
     ]
    }
   ],
   "source": [
    "a = np.arange(10)\n",
    "print('array:', a)\n",
    "print('all values below 10:', np.all(a < 10))\n",
    "print('all values above 3:', np.all(a > 3))\n",
    "print('any values above 3:', np.any(a > 3))"
   ]
  },
  {
   "cell_type": "markdown",
   "metadata": {},
   "source": [
    "### Exercise 7. Detecting the sick - revisited\n",
    "Redo Exercise 6, but now use one single loop (instead of a double loop) but with either `np.any` or `np.all`. "
   ]
  },
  {
   "cell_type": "code",
   "execution_count": 22,
   "metadata": {},
   "outputs": [
    {
     "name": "stdout",
     "output_type": "stream",
     "text": [
      "[1, 13, 22, 48, 75, 76, 98]\n"
     ]
    }
   ],
   "source": [
    "patient = []\n",
    "for i in range(len(gene)):\n",
    "    if np.any(gene[i] == \"AU\"):\n",
    "        patient.append(i + 1)\n",
    "print(patient)  "
   ]
  },
  {
   "cell_type": "code",
   "execution_count": null,
   "metadata": {},
   "outputs": [],
   "source": []
  }
 ],
 "metadata": {
  "kernelspec": {
   "display_name": "Python 3",
   "language": "python",
   "name": "python3"
  },
  "language_info": {
   "codemirror_mode": {
    "name": "ipython",
    "version": 3
   },
   "file_extension": ".py",
   "mimetype": "text/x-python",
   "name": "python",
   "nbconvert_exporter": "python",
   "pygments_lexer": "ipython3",
   "version": "3.8.8"
  },
  "varInspector": {
   "cols": {
    "lenName": 16,
    "lenType": 16,
    "lenVar": 40
   },
   "kernels_config": {
    "python": {
     "delete_cmd_postfix": "",
     "delete_cmd_prefix": "del ",
     "library": "var_list.py",
     "varRefreshCmd": "print(var_dic_list())"
    },
    "r": {
     "delete_cmd_postfix": ") ",
     "delete_cmd_prefix": "rm(",
     "library": "var_list.r",
     "varRefreshCmd": "cat(var_dic_list()) "
    }
   },
   "types_to_exclude": [
    "module",
    "function",
    "builtin_function_or_method",
    "instance",
    "_Feature"
   ],
   "window_display": false
  }
 },
 "nbformat": 4,
 "nbformat_minor": 4
}
