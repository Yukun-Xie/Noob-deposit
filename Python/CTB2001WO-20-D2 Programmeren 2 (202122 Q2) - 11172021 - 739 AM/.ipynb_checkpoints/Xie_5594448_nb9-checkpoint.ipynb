{
 "cells": [
  {
   "cell_type": "markdown",
   "metadata": {},
   "source": [
    "<figure>\n",
    "  <IMG SRC=\"https://raw.githubusercontent.com/mbakker7/exploratory_computing_with_python/master/tudelft_logo.png\" WIDTH=250 ALIGN=\"right\">\n",
    "</figure>\n",
    "\n",
    "# Exploratory Computing with Python\n",
    "*Developed by Mark Bakker*"
   ]
  },
  {
   "cell_type": "markdown",
   "metadata": {},
   "source": [
    "## Notebook 9: Basics of Pandas for data analysis\n",
    "In this Notebook we learn how to do basic data analysis with `pandas`."
   ]
  },
  {
   "cell_type": "code",
   "execution_count": 1,
   "metadata": {},
   "outputs": [],
   "source": [
    "%matplotlib inline\n",
    "import numpy as np\n",
    "import matplotlib.pyplot as plt"
   ]
  },
  {
   "cell_type": "markdown",
   "metadata": {},
   "source": [
    "### Loading data with Pandas\n",
    "Data is often stored in CSV files (Comma Separated Values, although the values can be separated by other things than commas).\n",
    "So far, we have loaded csv files with the `np.loadtxt` command.\n",
    "The `loadtxt` function has some basic functionality and works just fine, but when we have more elaborate data sets we want more sophisticated functionality. \n",
    "The most powerful and advanced package for data handling and analysis is called `pandas`, and is commonly imported as `pd`:"
   ]
  },
  {
   "cell_type": "code",
   "execution_count": 2,
   "metadata": {},
   "outputs": [],
   "source": [
    "import pandas as pd"
   ]
  },
  {
   "cell_type": "markdown",
   "metadata": {},
   "source": [
    "We will use only a few functions of the `pandas` package here. Full information on `pandas` can be found on the [pandas website](http://pandas.pydata.org/). \n",
    "Consider the following dataset, which is stored in the file `transport.csv`. It shows the percentage of transportation kilometers by car, bus or rail for four countries. The dataset has four columns. \n",
    "\n",
    "`country, car, bus, rail`  \n",
    "`some more explanations, yada yada yada`  \n",
    "`France, 86.1, 5.3, 8.6`  \n",
    "`Germany, 85.2, 7.1, 7.7`  \n",
    "`Netherlands, 86.4, 4.6, 9`  \n",
    "`United Kingdom, 88.2, 6.5, 5.3` \n",
    "\n",
    "This data file can be loaded with the `read_csv` function of the `pandas` package. The `read_csv` function has many options. We will use three of them here. The rows that need to be skipped are defined with the `skiprows` keyword (in this case row 1 with the `yada yada` text). The `skipinitialspace` keyword is set to `True` so that the column name ' car' is loaded without the initial space that is in the data file. And the `index_col` keyword is set to indicate that the names in column 0 can be used as an index to select a row."
   ]
  },
  {
   "cell_type": "code",
   "execution_count": 3,
   "metadata": {},
   "outputs": [],
   "source": [
    "tran = pd.read_csv('transport.csv', skiprows=[1], skipinitialspace=True, index_col=0)"
   ]
  },
  {
   "cell_type": "markdown",
   "metadata": {},
   "source": [
    "`pandas` loads data into a `DataFrame`. A `DataFrame` is like an array, but has many additional features for data analysis. For starters, once you have loaded the data, you can print it to the screen"
   ]
  },
  {
   "cell_type": "code",
   "execution_count": 4,
   "metadata": {},
   "outputs": [
    {
     "name": "stdout",
     "output_type": "stream",
     "text": [
      "                 car  bus  rail\n",
      "country                        \n",
      "France          86.1  5.3   8.6\n",
      "Germany         85.2  7.1   7.7\n",
      "Netherlands     86.4  4.6   9.0\n",
      "United Kingdom  88.2  6.5   5.3\n"
     ]
    }
   ],
   "source": [
    "print(tran)"
   ]
  },
  {
   "cell_type": "markdown",
   "metadata": {},
   "source": [
    "When the `DataFrame` is large, you can still print it to the screen (`pandas` is smart enough not to show the entire DataFrame when it is very large), or you can simply print the first 5 lines of the `DataFrame` with the `.head()` function. \n",
    "\n",
    "A better option is the `display` function to display a nicely formatted `DataFrame` to the screen. "
   ]
  },
  {
   "cell_type": "code",
   "execution_count": 5,
   "metadata": {},
   "outputs": [
    {
     "data": {
      "text/html": [
       "<div>\n",
       "<style scoped>\n",
       "    .dataframe tbody tr th:only-of-type {\n",
       "        vertical-align: middle;\n",
       "    }\n",
       "\n",
       "    .dataframe tbody tr th {\n",
       "        vertical-align: top;\n",
       "    }\n",
       "\n",
       "    .dataframe thead th {\n",
       "        text-align: right;\n",
       "    }\n",
       "</style>\n",
       "<table border=\"1\" class=\"dataframe\">\n",
       "  <thead>\n",
       "    <tr style=\"text-align: right;\">\n",
       "      <th></th>\n",
       "      <th>car</th>\n",
       "      <th>bus</th>\n",
       "      <th>rail</th>\n",
       "    </tr>\n",
       "    <tr>\n",
       "      <th>country</th>\n",
       "      <th></th>\n",
       "      <th></th>\n",
       "      <th></th>\n",
       "    </tr>\n",
       "  </thead>\n",
       "  <tbody>\n",
       "    <tr>\n",
       "      <th>France</th>\n",
       "      <td>86.1</td>\n",
       "      <td>5.3</td>\n",
       "      <td>8.6</td>\n",
       "    </tr>\n",
       "    <tr>\n",
       "      <th>Germany</th>\n",
       "      <td>85.2</td>\n",
       "      <td>7.1</td>\n",
       "      <td>7.7</td>\n",
       "    </tr>\n",
       "    <tr>\n",
       "      <th>Netherlands</th>\n",
       "      <td>86.4</td>\n",
       "      <td>4.6</td>\n",
       "      <td>9.0</td>\n",
       "    </tr>\n",
       "    <tr>\n",
       "      <th>United Kingdom</th>\n",
       "      <td>88.2</td>\n",
       "      <td>6.5</td>\n",
       "      <td>5.3</td>\n",
       "    </tr>\n",
       "  </tbody>\n",
       "</table>\n",
       "</div>"
      ],
      "text/plain": [
       "                 car  bus  rail\n",
       "country                        \n",
       "France          86.1  5.3   8.6\n",
       "Germany         85.2  7.1   7.7\n",
       "Netherlands     86.4  4.6   9.0\n",
       "United Kingdom  88.2  6.5   5.3"
      ]
     },
     "metadata": {},
     "output_type": "display_data"
    }
   ],
   "source": [
    "display(tran)"
   ]
  },
  {
   "cell_type": "markdown",
   "metadata": {},
   "source": [
    "### Basic `DataFrame` manipulation\n",
    "The rows and columns of a `DataFrame` may have names, as for the `tran` `DataFrame` shown above. To find out which names are used for the columns, use the `keys` function, which is accessible with the dot syntax. You can loop through the names of the columns."
   ]
  },
  {
   "cell_type": "code",
   "execution_count": 6,
   "metadata": {},
   "outputs": [
    {
     "name": "stdout",
     "output_type": "stream",
     "text": [
      "Names of columns:\n",
      "Index(['car', 'bus', 'rail'], dtype='object')\n",
      "car\n",
      "bus\n",
      "rail\n"
     ]
    }
   ],
   "source": [
    "print('Names of columns:')\n",
    "print(tran.keys())\n",
    "for key in tran.keys():\n",
    "    print(key)"
   ]
  },
  {
   "cell_type": "markdown",
   "metadata": {},
   "source": [
    "Each `DataFrame` may be indexed just like an array, by specifying the row and column number using the `.iloc` syntax (which stands for *index location*), where column 0 is the column labeled `car` (the column labeled as `country` was stored as an index when reading the csv file)."
   ]
  },
  {
   "cell_type": "code",
   "execution_count": 7,
   "metadata": {},
   "outputs": [
    {
     "name": "stdout",
     "output_type": "stream",
     "text": [
      "5.3\n",
      "85.2\n",
      "9.0\n",
      "car     88.2\n",
      "bus      6.5\n",
      "rail     5.3\n",
      "Name: United Kingdom, dtype: float64\n",
      "country\n",
      "France            5.3\n",
      "Germany           7.1\n",
      "Netherlands       4.6\n",
      "United Kingdom    6.5\n",
      "Name: bus, dtype: float64\n"
     ]
    }
   ],
   "source": [
    "print(tran.iloc[0, 1])  # gives the bus data for France\n",
    "print(tran.iloc[1, 0])  # gives the car data for Germany\n",
    "print(tran.iloc[2, 2])  # gives the rail data for Netherlands\n",
    "print(tran.iloc[3])     # all data for United Kindom\n",
    "print(tran.iloc[:, 1])  # all data for bus"
   ]
  },
  {
   "cell_type": "markdown",
   "metadata": {},
   "source": [
    "Alternatively, and often more explicit, values in a `DataFrame` may be selected by specifying the indices by name, using the `.loc` syntax. This is a bit more typing but it is *much* more clearly what you are doing. The equivalent of the code cell above, but using indices by name is"
   ]
  },
  {
   "cell_type": "code",
   "execution_count": 8,
   "metadata": {},
   "outputs": [
    {
     "name": "stdout",
     "output_type": "stream",
     "text": [
      "5.3\n",
      "85.2\n",
      "9.0\n",
      "car     88.2\n",
      "bus      6.5\n",
      "rail     5.3\n",
      "Name: United Kingdom, dtype: float64\n",
      "country\n",
      "France            5.3\n",
      "Germany           7.1\n",
      "Netherlands       4.6\n",
      "United Kingdom    6.5\n",
      "Name: bus, dtype: float64\n"
     ]
    }
   ],
   "source": [
    "print(tran.loc['France', 'bus'])\n",
    "print(tran.loc['Germany', 'car'])\n",
    "print(tran.loc['Netherlands', 'rail'])\n",
    "print(tran.loc['United Kingdom'])\n",
    "print(tran.loc[:, 'bus'])"
   ]
  },
  {
   "cell_type": "markdown",
   "metadata": {},
   "source": [
    "There are two alternative ways to access all the data in a column. First, you can simply specify the column name as an index, without having to use the `.loc` syntax. Second, the dot syntax may be used by typing `.column_name`, where `column_name` is the name of the column. Hence, the following three are equivalent"
   ]
  },
  {
   "cell_type": "code",
   "execution_count": 9,
   "metadata": {},
   "outputs": [
    {
     "name": "stdout",
     "output_type": "stream",
     "text": [
      "country\n",
      "France            86.1\n",
      "Germany           85.2\n",
      "Netherlands       86.4\n",
      "United Kingdom    88.2\n",
      "Name: car, dtype: float64\n",
      "country\n",
      "France            86.1\n",
      "Germany           85.2\n",
      "Netherlands       86.4\n",
      "United Kingdom    88.2\n",
      "Name: car, dtype: float64\n",
      "country\n",
      "France            86.1\n",
      "Germany           85.2\n",
      "Netherlands       86.4\n",
      "United Kingdom    88.2\n",
      "Name: car, dtype: float64\n"
     ]
    }
   ],
   "source": [
    "print(tran.loc[:, 'car'])  # all rows of 'car' column\n",
    "print(tran['car'])        # 'car' column \n",
    "print(tran.car)"
   ]
  },
  {
   "cell_type": "markdown",
   "metadata": {},
   "source": [
    "If you want to access the data in a row, only the `.loc` notation works"
   ]
  },
  {
   "cell_type": "code",
   "execution_count": 10,
   "metadata": {},
   "outputs": [
    {
     "data": {
      "text/plain": [
       "car     86.1\n",
       "bus      5.3\n",
       "rail     8.6\n",
       "Name: France, dtype: float64"
      ]
     },
     "execution_count": 10,
     "metadata": {},
     "output_type": "execute_result"
    }
   ],
   "source": [
    "tran.loc['France']"
   ]
  },
  {
   "cell_type": "markdown",
   "metadata": {},
   "source": [
    "### `numpy` functions for DataFrames\n",
    "`DataFrame` objects can often be treated as arrays, especially when they contain data. Most `numpy` functions work on `DataFrame` objects, but they can also be accessed with the *dot* syntax, like `dataframe_name.function()`. Simply type \n",
    "\n",
    "`tran.` \n",
    "\n",
    "in a code cell and then hit the [tab] key to see all the functions that are available (there are many). In the code cell below, we compute the maximum value of transportation by car, the country corresponding to the maximum value of transportation by car (in `pandas` this is `idxmax` rather than the `argmax` used in `numpy`), and the mean value of all transportation by car. "
   ]
  },
  {
   "cell_type": "code",
   "execution_count": 11,
   "metadata": {},
   "outputs": [
    {
     "name": "stdout",
     "output_type": "stream",
     "text": [
      "maximum car travel percentage: 88.2\n",
      "country with maximum car travel percentage: United Kingdom\n",
      "mean car travel percentage: 86.47500000000001\n"
     ]
    }
   ],
   "source": [
    "print('maximum car travel percentage:', tran.car.max())\n",
    "print('country with maximum car travel percentage:', tran.car.idxmax())\n",
    "print('mean car travel percentage:', tran.car.mean())"
   ]
  },
  {
   "cell_type": "markdown",
   "metadata": {},
   "source": [
    "You can also find all values larger than a specified value, just like for arrays."
   ]
  },
  {
   "cell_type": "code",
   "execution_count": 12,
   "metadata": {},
   "outputs": [
    {
     "name": "stdout",
     "output_type": "stream",
     "text": [
      "all rail travel above 8 percent:\n",
      "country\n",
      "France         8.6\n",
      "Netherlands    9.0\n",
      "Name: rail, dtype: float64\n"
     ]
    }
   ],
   "source": [
    "print('all rail travel above 8 percent:')\n",
    "print(tran.rail[tran.rail > 8])"
   ]
  },
  {
   "cell_type": "markdown",
   "metadata": {},
   "source": [
    "The code above identified France and Netherlands as the countries with more than 8% transport by rail, but the code returned a series with the country names and the value in the rail column. If you only want the names of the countries, you need to ask for the values of the index column"
   ]
  },
  {
   "cell_type": "code",
   "execution_count": 13,
   "metadata": {},
   "outputs": [
    {
     "name": "stdout",
     "output_type": "stream",
     "text": [
      "['France' 'Netherlands']\n"
     ]
    }
   ],
   "source": [
    "print(tran.index[tran.rail > 8].values)"
   ]
  },
  {
   "cell_type": "markdown",
   "metadata": {},
   "source": [
    "### Exercise 1, Country data\n",
    "The file `countries.csv` contains a variety of data for (almost) every country in the world. Open the data file to see what it looks like (just click on it in the Files tab on the Jupyter dashboard). Load the data with the `read_csv` function of `pandas`, making sure that the names of the countries can be used to select a row, and perform the following tasks. Make sure to use f-stings when printing numbers\n",
    "\n",
    "* Print the first 5 lines of the `DataFrame` to the screen with the `.head()` function.\n",
    "* Print the dialing prefix of Belgium.\n",
    "* Print the life expectancy of Iran.\n",
    "* Print the maximum birthrate.\n",
    "* Print all countries that have the Dinar as currency.\n",
    "* Print all countries that lie in South America.\n",
    "* Print the number of countries that have a life expectancy over 80. (use the `np.count_nonzero` function)"
   ]
  },
  {
   "cell_type": "code",
   "execution_count": 14,
   "metadata": {},
   "outputs": [
    {
     "name": "stdout",
     "output_type": "stream",
     "text": [
      "the first 5 lines is: \n",
      "               Continent  Population     Area  Coastline Currency  \\\n",
      "Country                                                             \n",
      "Afghanistan         Asia    32564342   652230          0  Afghani   \n",
      "Egypt             Africa    88487396  1001450       2450    Pfund   \n",
      "Albania           Europe     3029278    28748        362      Lek   \n",
      "Algeria           Africa    39542166  2381741        998    Dinar   \n",
      "American Samoa   Oceania       54343      199        116   Dollar   \n",
      "\n",
      "               DialingPrefix  Birthrate  Deathrate  LifeExpectancy  \n",
      "Country                                                             \n",
      "Afghanistan               93       38.6       13.9            50.9  \n",
      "Egypt                     20       22.9        4.8            73.7  \n",
      "Albania                  355       12.9        6.6            78.1  \n",
      "Algeria                  213       23.7        4.3            76.6  \n",
      "American Samoa         1-684       22.9        4.8            75.1  \n",
      "the dialing prefix of Belgium is: 32\n",
      "the life expectancy of Iran is: 71.2\n",
      "the maximum birthrate is: 45.5\n",
      "all countries that have the Dinar as currency are: ['Algeria' 'Bahrain' 'Iraq' 'Jordan' 'Kuwait' 'Libya' 'Serbia' 'Tunisia']\n",
      "all countries that lie in South America are: ['Argentina' 'Bolivia' 'Brazil' 'Chile' 'Ecuador' 'Falkland Islands'\n",
      " 'French Guiana' 'Guyana' 'Colombia' 'Paraguay' 'Peru' 'Suriname'\n",
      " 'Uruguay' 'Venezuela']\n",
      "the number of countries that have a life expectancy over 80 are: 37\n"
     ]
    }
   ],
   "source": [
    "countries = pd.read_csv('countries.csv', skiprows = [1, 2, 3], delimiter = \";\", index_col = 0, header = 1)\n",
    "print(f\"the first 5 lines is: \\n{countries.head()}\")\n",
    "print(f\"the dialing prefix of Belgium is: {countries.loc['Belgium'].DialingPrefix}\")\n",
    "print(f\"the life expectancy of Iran is: {countries.loc['Iran'].LifeExpectancy}\")\n",
    "print(f\"the maximum birthrate is: {countries.Birthrate.max()}\")\n",
    "print(f\"all countries that have the Dinar as currency are: {countries.index[countries.Currency == 'Dinar'].values}\")\n",
    "print(f\"all countries that lie in South America are: {countries.index[countries.Continent == 'South America'].values}\")\n",
    "print(f\"the number of countries that have a life expectancy over 80 are: {np.count_nonzero(countries.LifeExpectancy[countries.LifeExpectancy > 80])}\")"
   ]
  },
  {
   "cell_type": "markdown",
   "metadata": {},
   "source": [
    "### Adding a column to a `DataFrame`\n",
    "A column may be added to a `DataFrame` by simply specifying the name and values of the new column using the syntax `DataFrame['newcolumn']=something`. For example, let's add a column named `public_transport`, which is the sum of the `bus` and `rail` columns, and then find the country with the largest percentage of public transport"
   ]
  },
  {
   "cell_type": "code",
   "execution_count": 15,
   "metadata": {},
   "outputs": [
    {
     "name": "stdout",
     "output_type": "stream",
     "text": [
      "Country with largest percentage public transport: Germany\n"
     ]
    }
   ],
   "source": [
    "tran['public_transport'] = tran.bus + tran.rail\n",
    "print('Country with largest percentage public transport:', tran.public_transport.idxmax())"
   ]
  },
  {
   "cell_type": "markdown",
   "metadata": {},
   "source": [
    "### Plotting DataFrames\n",
    "You can plot the column or row of a DataFrame with `matplotlib` functions, as we have done in previous Notebooks, but `pandas` has also implemented its own, much more convenient, plotting functions (still based on `matplotlib` in the background, of course). The plotting capabilities of `pandas` use the *dot* syntax, like `dataframe.plot()`. All columns can be plotted simultaneously (note that the names appear on the axes and the legend is added automatically!)."
   ]
  },
  {
   "cell_type": "code",
   "execution_count": 16,
   "metadata": {},
   "outputs": [
    {
     "data": {
      "image/png": "[encoded data removed]",
      "text/plain": [
       "<Figure size 432x288 with 1 Axes>"
      ]
     },
     "metadata": {
      "needs_background": "light"
     },
     "output_type": "display_data"
    }
   ],
   "source": [
    "tran.plot();  # plot all columns"
   ]
  },
  {
   "cell_type": "markdown",
   "metadata": {},
   "source": [
    "You can also plot one column at a time. The style of the plot may be specified with the `kind` keyword (the default is `'line'`). Check out `tran.plot?` for more options. "
   ]
  },
  {
   "cell_type": "code",
   "execution_count": 17,
   "metadata": {},
   "outputs": [
    {
     "data": {
      "image/png": "[encoded data removed]",
      "text/plain": [
       "<Figure size 432x288 with 1 Axes>"
      ]
     },
     "metadata": {
      "needs_background": "light"
     },
     "output_type": "display_data"
    }
   ],
   "source": [
    "tran['bus'].plot(kind='bar');"
   ]
  },
  {
   "cell_type": "markdown",
   "metadata": {},
   "source": [
    "### Sorting DataFrames\n",
    "DataFrames may be sorted with the `.sort_values` function. The keyword `inplace=True` replaces the values in the DataFrame with the new sorted values (when `inplace=False` a new DataFrame is returned, which you can store in a separate variable so that you have two datasets, one sorted and one unsorted). The `sort_values` function has several keyword arguments, including `by` which is either the name of one column to sort by or a list of columns so that data is sorted by the first column in the list and when values are equal they are sorted by the next column in the list. Another keyword is `ascending`, which you can use to specify whether to sort in ascending order (`ascending=True`, which is the default), or descending order (`ascending=False`)"
   ]
  },
  {
   "cell_type": "code",
   "execution_count": 18,
   "metadata": {},
   "outputs": [
    {
     "name": "stdout",
     "output_type": "stream",
     "text": [
      "Data sorted by car use:\n"
     ]
    },
    {
     "data": {
      "text/html": [
       "<div>\n",
       "<style scoped>\n",
       "    .dataframe tbody tr th:only-of-type {\n",
       "        vertical-align: middle;\n",
       "    }\n",
       "\n",
       "    .dataframe tbody tr th {\n",
       "        vertical-align: top;\n",
       "    }\n",
       "\n",
       "    .dataframe thead th {\n",
       "        text-align: right;\n",
       "    }\n",
       "</style>\n",
       "<table border=\"1\" class=\"dataframe\">\n",
       "  <thead>\n",
       "    <tr style=\"text-align: right;\">\n",
       "      <th></th>\n",
       "      <th>car</th>\n",
       "      <th>bus</th>\n",
       "      <th>rail</th>\n",
       "      <th>public_transport</th>\n",
       "    </tr>\n",
       "    <tr>\n",
       "      <th>country</th>\n",
       "      <th></th>\n",
       "      <th></th>\n",
       "      <th></th>\n",
       "      <th></th>\n",
       "    </tr>\n",
       "  </thead>\n",
       "  <tbody>\n",
       "    <tr>\n",
       "      <th>Germany</th>\n",
       "      <td>85.2</td>\n",
       "      <td>7.1</td>\n",
       "      <td>7.7</td>\n",
       "      <td>14.8</td>\n",
       "    </tr>\n",
       "    <tr>\n",
       "      <th>France</th>\n",
       "      <td>86.1</td>\n",
       "      <td>5.3</td>\n",
       "      <td>8.6</td>\n",
       "      <td>13.9</td>\n",
       "    </tr>\n",
       "    <tr>\n",
       "      <th>Netherlands</th>\n",
       "      <td>86.4</td>\n",
       "      <td>4.6</td>\n",
       "      <td>9.0</td>\n",
       "      <td>13.6</td>\n",
       "    </tr>\n",
       "    <tr>\n",
       "      <th>United Kingdom</th>\n",
       "      <td>88.2</td>\n",
       "      <td>6.5</td>\n",
       "      <td>5.3</td>\n",
       "      <td>11.8</td>\n",
       "    </tr>\n",
       "  </tbody>\n",
       "</table>\n",
       "</div>"
      ],
      "text/plain": [
       "                 car  bus  rail  public_transport\n",
       "country                                          \n",
       "Germany         85.2  7.1   7.7              14.8\n",
       "France          86.1  5.3   8.6              13.9\n",
       "Netherlands     86.4  4.6   9.0              13.6\n",
       "United Kingdom  88.2  6.5   5.3              11.8"
      ]
     },
     "metadata": {},
     "output_type": "display_data"
    },
    {
     "name": "stdout",
     "output_type": "stream",
     "text": [
      "Data sorted by bus use:\n"
     ]
    },
    {
     "data": {
      "text/html": [
       "<div>\n",
       "<style scoped>\n",
       "    .dataframe tbody tr th:only-of-type {\n",
       "        vertical-align: middle;\n",
       "    }\n",
       "\n",
       "    .dataframe tbody tr th {\n",
       "        vertical-align: top;\n",
       "    }\n",
       "\n",
       "    .dataframe thead th {\n",
       "        text-align: right;\n",
       "    }\n",
       "</style>\n",
       "<table border=\"1\" class=\"dataframe\">\n",
       "  <thead>\n",
       "    <tr style=\"text-align: right;\">\n",
       "      <th></th>\n",
       "      <th>car</th>\n",
       "      <th>bus</th>\n",
       "      <th>rail</th>\n",
       "      <th>public_transport</th>\n",
       "    </tr>\n",
       "    <tr>\n",
       "      <th>country</th>\n",
       "      <th></th>\n",
       "      <th></th>\n",
       "      <th></th>\n",
       "      <th></th>\n",
       "    </tr>\n",
       "  </thead>\n",
       "  <tbody>\n",
       "    <tr>\n",
       "      <th>Netherlands</th>\n",
       "      <td>86.4</td>\n",
       "      <td>4.6</td>\n",
       "      <td>9.0</td>\n",
       "      <td>13.6</td>\n",
       "    </tr>\n",
       "    <tr>\n",
       "      <th>France</th>\n",
       "      <td>86.1</td>\n",
       "      <td>5.3</td>\n",
       "      <td>8.6</td>\n",
       "      <td>13.9</td>\n",
       "    </tr>\n",
       "    <tr>\n",
       "      <th>United Kingdom</th>\n",
       "      <td>88.2</td>\n",
       "      <td>6.5</td>\n",
       "      <td>5.3</td>\n",
       "      <td>11.8</td>\n",
       "    </tr>\n",
       "    <tr>\n",
       "      <th>Germany</th>\n",
       "      <td>85.2</td>\n",
       "      <td>7.1</td>\n",
       "      <td>7.7</td>\n",
       "      <td>14.8</td>\n",
       "    </tr>\n",
       "  </tbody>\n",
       "</table>\n",
       "</div>"
      ],
      "text/plain": [
       "                 car  bus  rail  public_transport\n",
       "country                                          \n",
       "Netherlands     86.4  4.6   9.0              13.6\n",
       "France          86.1  5.3   8.6              13.9\n",
       "United Kingdom  88.2  6.5   5.3              11.8\n",
       "Germany         85.2  7.1   7.7              14.8"
      ]
     },
     "metadata": {},
     "output_type": "display_data"
    }
   ],
   "source": [
    "print('Data sorted by car use:')\n",
    "display(tran.sort_values(by='car'))\n",
    "print('Data sorted by bus use:')\n",
    "display(tran.sort_values(by='bus'))"
   ]
  },
  {
   "cell_type": "markdown",
   "metadata": {},
   "source": [
    "### Renaming columns\n",
    "Sometimes (quite often, really), the names of columns in a dataset are not very convenient (long, including spaces, etc.). For the example of the transportation data, the columns have convenient names, but let's change them for demonstration purposes. You can rename columns inplace, and you can change as many columns as you want. The old and new names are specified with a Python dictionary. A dictionary is a very useful data type. It is specified between braces `{}`, and links a word in the dictionary to a value. The value can be anything. You can then use the word in the dictionary as the index, just like you would look up a word in an paper dictionary."
   ]
  },
  {
   "cell_type": "code",
   "execution_count": 19,
   "metadata": {},
   "outputs": [
    {
     "name": "stdout",
     "output_type": "stream",
     "text": [
      "20\n",
      "Delft\n"
     ]
    }
   ],
   "source": [
    "firstdictionary = {'goals': 20, 'city': 'Delft'}\n",
    "print(firstdictionary['goals'])\n",
    "print(firstdictionary['city'])"
   ]
  },
  {
   "cell_type": "markdown",
   "metadata": {},
   "source": [
    "Much more on Python dictionaries can be found, for example, [here](https://www.w3schools.com/python/python_dictionaries.asp). Let's continue with renaming two of the columns of the `tran` `DataFrame`: "
   ]
  },
  {
   "cell_type": "code",
   "execution_count": 20,
   "metadata": {},
   "outputs": [
    {
     "data": {
      "text/html": [
       "<div>\n",
       "<style scoped>\n",
       "    .dataframe tbody tr th:only-of-type {\n",
       "        vertical-align: middle;\n",
       "    }\n",
       "\n",
       "    .dataframe tbody tr th {\n",
       "        vertical-align: top;\n",
       "    }\n",
       "\n",
       "    .dataframe thead th {\n",
       "        text-align: right;\n",
       "    }\n",
       "</style>\n",
       "<table border=\"1\" class=\"dataframe\">\n",
       "  <thead>\n",
       "    <tr style=\"text-align: right;\">\n",
       "      <th></th>\n",
       "      <th>car</th>\n",
       "      <th>BUS</th>\n",
       "      <th>train</th>\n",
       "      <th>public_transport</th>\n",
       "    </tr>\n",
       "    <tr>\n",
       "      <th>country</th>\n",
       "      <th></th>\n",
       "      <th></th>\n",
       "      <th></th>\n",
       "      <th></th>\n",
       "    </tr>\n",
       "  </thead>\n",
       "  <tbody>\n",
       "    <tr>\n",
       "      <th>France</th>\n",
       "      <td>86.1</td>\n",
       "      <td>5.3</td>\n",
       "      <td>8.6</td>\n",
       "      <td>13.9</td>\n",
       "    </tr>\n",
       "    <tr>\n",
       "      <th>Germany</th>\n",
       "      <td>85.2</td>\n",
       "      <td>7.1</td>\n",
       "      <td>7.7</td>\n",
       "      <td>14.8</td>\n",
       "    </tr>\n",
       "    <tr>\n",
       "      <th>Netherlands</th>\n",
       "      <td>86.4</td>\n",
       "      <td>4.6</td>\n",
       "      <td>9.0</td>\n",
       "      <td>13.6</td>\n",
       "    </tr>\n",
       "    <tr>\n",
       "      <th>United Kingdom</th>\n",
       "      <td>88.2</td>\n",
       "      <td>6.5</td>\n",
       "      <td>5.3</td>\n",
       "      <td>11.8</td>\n",
       "    </tr>\n",
       "  </tbody>\n",
       "</table>\n",
       "</div>"
      ],
      "text/plain": [
       "                 car  BUS  train  public_transport\n",
       "country                                           \n",
       "France          86.1  5.3    8.6              13.9\n",
       "Germany         85.2  7.1    7.7              14.8\n",
       "Netherlands     86.4  4.6    9.0              13.6\n",
       "United Kingdom  88.2  6.5    5.3              11.8"
      ]
     },
     "metadata": {},
     "output_type": "display_data"
    }
   ],
   "source": [
    "tran.rename(columns={'bus': 'BUS', \n",
    "                     'rail': 'train'},inplace = True)\n",
    "display(tran)"
   ]
  },
  {
   "cell_type": "markdown",
   "metadata": {},
   "source": [
    "The index column, with the countries, is now called `'country'`, but we can rename that too, for example to `'somewhere in Europe'`, with the following syntax"
   ]
  },
  {
   "cell_type": "code",
   "execution_count": 21,
   "metadata": {},
   "outputs": [
    {
     "data": {
      "text/html": [
       "<div>\n",
       "<style scoped>\n",
       "    .dataframe tbody tr th:only-of-type {\n",
       "        vertical-align: middle;\n",
       "    }\n",
       "\n",
       "    .dataframe tbody tr th {\n",
       "        vertical-align: top;\n",
       "    }\n",
       "\n",
       "    .dataframe thead th {\n",
       "        text-align: right;\n",
       "    }\n",
       "</style>\n",
       "<table border=\"1\" class=\"dataframe\">\n",
       "  <thead>\n",
       "    <tr style=\"text-align: right;\">\n",
       "      <th></th>\n",
       "      <th>car</th>\n",
       "      <th>BUS</th>\n",
       "      <th>train</th>\n",
       "      <th>public_transport</th>\n",
       "    </tr>\n",
       "    <tr>\n",
       "      <th>somewhere in Europe</th>\n",
       "      <th></th>\n",
       "      <th></th>\n",
       "      <th></th>\n",
       "      <th></th>\n",
       "    </tr>\n",
       "  </thead>\n",
       "  <tbody>\n",
       "    <tr>\n",
       "      <th>France</th>\n",
       "      <td>86.1</td>\n",
       "      <td>5.3</td>\n",
       "      <td>8.6</td>\n",
       "      <td>13.9</td>\n",
       "    </tr>\n",
       "    <tr>\n",
       "      <th>Germany</th>\n",
       "      <td>85.2</td>\n",
       "      <td>7.1</td>\n",
       "      <td>7.7</td>\n",
       "      <td>14.8</td>\n",
       "    </tr>\n",
       "    <tr>\n",
       "      <th>Netherlands</th>\n",
       "      <td>86.4</td>\n",
       "      <td>4.6</td>\n",
       "      <td>9.0</td>\n",
       "      <td>13.6</td>\n",
       "    </tr>\n",
       "    <tr>\n",
       "      <th>United Kingdom</th>\n",
       "      <td>88.2</td>\n",
       "      <td>6.5</td>\n",
       "      <td>5.3</td>\n",
       "      <td>11.8</td>\n",
       "    </tr>\n",
       "  </tbody>\n",
       "</table>\n",
       "</div>"
      ],
      "text/plain": [
       "                      car  BUS  train  public_transport\n",
       "somewhere in Europe                                    \n",
       "France               86.1  5.3    8.6              13.9\n",
       "Germany              85.2  7.1    7.7              14.8\n",
       "Netherlands          86.4  4.6    9.0              13.6\n",
       "United Kingdom       88.2  6.5    5.3              11.8"
      ]
     },
     "metadata": {},
     "output_type": "display_data"
    }
   ],
   "source": [
    "tran.index.names = ['somewhere in Europe']\n",
    "display(tran)"
   ]
  },
  {
   "cell_type": "markdown",
   "metadata": {},
   "source": [
    "### Exercise 2, Country data continued\n",
    "Continue with the `DataFrame` of the previous Exercise and perform the following tasks:\n",
    "\n",
    "* Create a new column called `Growthrate` based on the birth rate and death rate.\n",
    "* Print the country that has the highest growth rate and the lowest.\n",
    "* Print the number of countries that have a stable population (growth rate is zero)\n",
    "* Make a bar plot of the 20 countries with the highest growth rates. (Hint, use a sorted `DataFrame`). Don't forget to add a label on the vertical axis."
   ]
  },
  {
   "cell_type": "code",
   "execution_count": 22,
   "metadata": {},
   "outputs": [
    {
     "name": "stdout",
     "output_type": "stream",
     "text": [
      "The country with the highest growthrate is: Mayotte\n",
      "The country with the lowest growthrate is: Curacao\n",
      "The number of countries with a stable growthrate is: 22\n"
     ]
    },
    {
     "data": {
      "image/png": "[encoded data removed]",
      "text/plain": [
       "<Figure size 432x288 with 1 Axes>"
      ]
     },
     "metadata": {
      "needs_background": "light"
     },
     "output_type": "display_data"
    }
   ],
   "source": [
    "countries['Growthrate'] = countries.Birthrate - countries.Deathrate\n",
    "print(f\"The country with the highest growthrate is: {countries.Growthrate.idxmax()}\")\n",
    "print(f\"The country with the lowest growthrate is: {countries.Growthrate.idxmin()}\")\n",
    "print(f\"The number of countries with a stable growthrate is: {len(countries[countries.Growthrate == 0])}\")\n",
    "countries.Growthrate.sort_values(ascending = False)[0:20].plot(kind='bar')\n",
    "plt.ylabel(\"The Growthrate\")\n",
    "plt.title(\"20 countries with the highest growth rate\");"
   ]
  },
  {
   "cell_type": "markdown",
   "metadata": {},
   "source": [
    "### Time series data\n",
    "In time series data, one of the columns represents dates, sometimes including times, together referred to as datetimes. `pandas` can be used to read csv files where one of the columns includes datetime data. You need to tell `pandas` which column contains datetime values and `pandas` will try to convert that column to datetime objects. Datetime objects are very convenient as specifics of the datetime object may be assessed with the dot syntax: `.year` returns the year, `.month` returns the month, etc.\n",
    "\n",
    "For example, consider the following data stored in the file `timeseries1.dat`\n",
    "\n",
    "`date, conc`  \n",
    "`2014-04-01, 0.19`   \n",
    "`2014-04-02, 0.23`   \n",
    "`2014-04-03, 0.32`   \n",
    "`2014-04-04, 0.29`   \n",
    "\n",
    "The file may be read with `read_csv` using the keyword `parse_dates=[0]` so that column number 0 is converted to datetimes"
   ]
  },
  {
   "cell_type": "code",
   "execution_count": 23,
   "metadata": {},
   "outputs": [
    {
     "data": {
      "text/html": [
       "<div>\n",
       "<style scoped>\n",
       "    .dataframe tbody tr th:only-of-type {\n",
       "        vertical-align: middle;\n",
       "    }\n",
       "\n",
       "    .dataframe tbody tr th {\n",
       "        vertical-align: top;\n",
       "    }\n",
       "\n",
       "    .dataframe thead th {\n",
       "        text-align: right;\n",
       "    }\n",
       "</style>\n",
       "<table border=\"1\" class=\"dataframe\">\n",
       "  <thead>\n",
       "    <tr style=\"text-align: right;\">\n",
       "      <th></th>\n",
       "      <th>date</th>\n",
       "      <th>conc</th>\n",
       "    </tr>\n",
       "  </thead>\n",
       "  <tbody>\n",
       "    <tr>\n",
       "      <th>0</th>\n",
       "      <td>2014-04-01</td>\n",
       "      <td>0.19</td>\n",
       "    </tr>\n",
       "    <tr>\n",
       "      <th>1</th>\n",
       "      <td>2014-04-02</td>\n",
       "      <td>0.23</td>\n",
       "    </tr>\n",
       "    <tr>\n",
       "      <th>2</th>\n",
       "      <td>2014-04-03</td>\n",
       "      <td>0.32</td>\n",
       "    </tr>\n",
       "    <tr>\n",
       "      <th>3</th>\n",
       "      <td>2014-04-04</td>\n",
       "      <td>0.29</td>\n",
       "    </tr>\n",
       "    <tr>\n",
       "      <th>4</th>\n",
       "      <td>2014-04-05</td>\n",
       "      <td>0.32</td>\n",
       "    </tr>\n",
       "  </tbody>\n",
       "</table>\n",
       "</div>"
      ],
      "text/plain": [
       "        date  conc\n",
       "0 2014-04-01  0.19\n",
       "1 2014-04-02  0.23\n",
       "2 2014-04-03  0.32\n",
       "3 2014-04-04  0.29\n",
       "4 2014-04-05  0.32"
      ]
     },
     "metadata": {},
     "output_type": "display_data"
    }
   ],
   "source": [
    "data = pd.read_csv('timeseries1.dat', parse_dates=[0], skipinitialspace=True)\n",
    "display(data)"
   ]
  },
  {
   "cell_type": "markdown",
   "metadata": {},
   "source": [
    "The rows of the DataFrame `data` are numbered, as we have not told `pandas` what column to use as the index of the rows (we will do that later). The first column of the DataFrame `data` has datetime values. We can access, for example, the year, month, and day with the dot syntax"
   ]
  },
  {
   "cell_type": "code",
   "execution_count": 24,
   "metadata": {},
   "outputs": [
    {
     "name": "stdout",
     "output_type": "stream",
     "text": [
      "datetime of row 0: 2014-04-01 00:00:00\n",
      "year  of row 0: 2014\n",
      "month of row 0: 4\n",
      "day   of row 0: 1\n"
     ]
    }
   ],
   "source": [
    "print('datetime of row 0:', data.iloc[0, 0])\n",
    "print('year  of row 0:', data.iloc[0, 0].year)\n",
    "print('month of row 0:', data.iloc[0, 0].month)\n",
    "print('day   of row 0:', data.iloc[0, 0].day)"
   ]
  },
  {
   "cell_type": "markdown",
   "metadata": {},
   "source": [
    "You can get part of the date from an entire column (so for all rows) using the `.dt` syntax"
   ]
  },
  {
   "cell_type": "code",
   "execution_count": 25,
   "metadata": {},
   "outputs": [
    {
     "data": {
      "text/plain": [
       "0    1\n",
       "1    2\n",
       "2    3\n",
       "3    4\n",
       "4    5\n",
       "Name: date, dtype: int64"
      ]
     },
     "execution_count": 25,
     "metadata": {},
     "output_type": "execute_result"
    }
   ],
   "source": [
    "data.date.dt.day # day for entire date column"
   ]
  },
  {
   "cell_type": "markdown",
   "metadata": {},
   "source": [
    "Time series data may also contain the time in addition to the date. For example, the data of the file `timeseries2.dat`, shown below, contains the day and time. You can access the `hour` or `minutes`, but also the time of a row of the DataFrame with the `.time()` function.\n",
    "\n",
    "`date, conc`   \n",
    "`2014-04-01 12:00:00, 0.19`   \n",
    "`2014-04-01 13:00:00, 0.20`  \n",
    "`2014-04-01 14:00:00, 0.23`  \n",
    "`2014-04-01 15:00:00, 0.21` "
   ]
  },
  {
   "cell_type": "code",
   "execution_count": 26,
   "metadata": {},
   "outputs": [
    {
     "data": {
      "text/html": [
       "<div>\n",
       "<style scoped>\n",
       "    .dataframe tbody tr th:only-of-type {\n",
       "        vertical-align: middle;\n",
       "    }\n",
       "\n",
       "    .dataframe tbody tr th {\n",
       "        vertical-align: top;\n",
       "    }\n",
       "\n",
       "    .dataframe thead th {\n",
       "        text-align: right;\n",
       "    }\n",
       "</style>\n",
       "<table border=\"1\" class=\"dataframe\">\n",
       "  <thead>\n",
       "    <tr style=\"text-align: right;\">\n",
       "      <th></th>\n",
       "      <th>date</th>\n",
       "      <th>conc</th>\n",
       "    </tr>\n",
       "  </thead>\n",
       "  <tbody>\n",
       "    <tr>\n",
       "      <th>0</th>\n",
       "      <td>2014-04-01 12:00:00</td>\n",
       "      <td>0.19</td>\n",
       "    </tr>\n",
       "    <tr>\n",
       "      <th>1</th>\n",
       "      <td>2014-04-01 13:00:00</td>\n",
       "      <td>0.20</td>\n",
       "    </tr>\n",
       "    <tr>\n",
       "      <th>2</th>\n",
       "      <td>2014-04-01 14:00:00</td>\n",
       "      <td>0.23</td>\n",
       "    </tr>\n",
       "    <tr>\n",
       "      <th>3</th>\n",
       "      <td>2014-04-01 15:00:00</td>\n",
       "      <td>0.21</td>\n",
       "    </tr>\n",
       "  </tbody>\n",
       "</table>\n",
       "</div>"
      ],
      "text/plain": [
       "                 date  conc\n",
       "0 2014-04-01 12:00:00  0.19\n",
       "1 2014-04-01 13:00:00  0.20\n",
       "2 2014-04-01 14:00:00  0.23\n",
       "3 2014-04-01 15:00:00  0.21"
      ]
     },
     "metadata": {},
     "output_type": "display_data"
    },
    {
     "name": "stdout",
     "output_type": "stream",
     "text": [
      "hour  of row 0: 12\n",
      "minute  of row 0: 0\n",
      "time of row 0: 12:00:00\n"
     ]
    }
   ],
   "source": [
    "data2 = pd.read_csv('timeseries2.dat', parse_dates=[0], skipinitialspace=True)\n",
    "display(data2)\n",
    "print('hour  of row 0:', data2.iloc[0, 0].hour)\n",
    "print('minute  of row 0:', data2.iloc[0, 0].minute)\n",
    "print('time of row 0:', data2.iloc[0, 0].time())"
   ]
  },
  {
   "cell_type": "markdown",
   "metadata": {},
   "source": [
    "### Setting values based on a condition\n",
    "Values of a column may be changed based on a condition. For example, all values of the concentration above 0.2 may be set to 0.2 with the following syntax"
   ]
  },
  {
   "cell_type": "code",
   "execution_count": 27,
   "metadata": {},
   "outputs": [
    {
     "data": {
      "text/html": [
       "<div>\n",
       "<style scoped>\n",
       "    .dataframe tbody tr th:only-of-type {\n",
       "        vertical-align: middle;\n",
       "    }\n",
       "\n",
       "    .dataframe tbody tr th {\n",
       "        vertical-align: top;\n",
       "    }\n",
       "\n",
       "    .dataframe thead th {\n",
       "        text-align: right;\n",
       "    }\n",
       "</style>\n",
       "<table border=\"1\" class=\"dataframe\">\n",
       "  <thead>\n",
       "    <tr style=\"text-align: right;\">\n",
       "      <th></th>\n",
       "      <th>date</th>\n",
       "      <th>conc</th>\n",
       "    </tr>\n",
       "  </thead>\n",
       "  <tbody>\n",
       "    <tr>\n",
       "      <th>0</th>\n",
       "      <td>2014-04-01 12:00:00</td>\n",
       "      <td>0.19</td>\n",
       "    </tr>\n",
       "    <tr>\n",
       "      <th>1</th>\n",
       "      <td>2014-04-01 13:00:00</td>\n",
       "      <td>0.20</td>\n",
       "    </tr>\n",
       "    <tr>\n",
       "      <th>2</th>\n",
       "      <td>2014-04-01 14:00:00</td>\n",
       "      <td>0.20</td>\n",
       "    </tr>\n",
       "    <tr>\n",
       "      <th>3</th>\n",
       "      <td>2014-04-01 15:00:00</td>\n",
       "      <td>0.20</td>\n",
       "    </tr>\n",
       "  </tbody>\n",
       "</table>\n",
       "</div>"
      ],
      "text/plain": [
       "                 date  conc\n",
       "0 2014-04-01 12:00:00  0.19\n",
       "1 2014-04-01 13:00:00  0.20\n",
       "2 2014-04-01 14:00:00  0.20\n",
       "3 2014-04-01 15:00:00  0.20"
      ]
     },
     "metadata": {},
     "output_type": "display_data"
    }
   ],
   "source": [
    "data2.loc[data2.conc > 0.2, 'conc'] = 0.2\n",
    "display(data2)"
   ]
  },
  {
   "cell_type": "markdown",
   "metadata": {},
   "source": [
    "### Exercise 3, Temperature data\n",
    "The files `KNMI_maastricht_temp_2019.csv` contain the daily metorological data for the city of Maastricht in the Netherlands in the first 10 months of 2019 (from the [knmi](http://projects.knmi.nl/klimatologie/daggegevens/selectie.cgi) website). Perform the following tasks:\n",
    "\n",
    "* Load the data with `read_csv`.\n",
    "* Add a new column with the mean daily temperature in °C.\n",
    "* Plot the mean daily temperature vs. the number of the day in the year.\n",
    "* Plot a red dot for the day with the highest mean daily temperature (remember the hot days this summer?). \n",
    "* Add a title stating `mean temperature on hottest day: XX degrees Celsius`, where you fill in the correct XX with two decimal places.\n",
    "* Add labels along the axes"
   ]
  },
  {
   "cell_type": "code",
   "execution_count": 28,
   "metadata": {},
   "outputs": [
    {
     "data": {
      "text/html": [
       "<div>\n",
       "<style scoped>\n",
       "    .dataframe tbody tr th:only-of-type {\n",
       "        vertical-align: middle;\n",
       "    }\n",
       "\n",
       "    .dataframe tbody tr th {\n",
       "        vertical-align: top;\n",
       "    }\n",
       "\n",
       "    .dataframe thead th {\n",
       "        text-align: right;\n",
       "    }\n",
       "</style>\n",
       "<table border=\"1\" class=\"dataframe\">\n",
       "  <thead>\n",
       "    <tr style=\"text-align: right;\">\n",
       "      <th></th>\n",
       "      <th># STN</th>\n",
       "      <th>YYYYMMDD</th>\n",
       "      <th>TG</th>\n",
       "      <th>TN</th>\n",
       "      <th>TNH</th>\n",
       "      <th>TX</th>\n",
       "      <th>TXH</th>\n",
       "      <th>T10N</th>\n",
       "      <th>T10NH</th>\n",
       "      <th>Mean_daily_temperature_in_°C</th>\n",
       "    </tr>\n",
       "  </thead>\n",
       "  <tbody>\n",
       "    <tr>\n",
       "      <th>0</th>\n",
       "      <td>380</td>\n",
       "      <td>2019-01-01</td>\n",
       "      <td>62</td>\n",
       "      <td>42</td>\n",
       "      <td>24</td>\n",
       "      <td>77</td>\n",
       "      <td>1</td>\n",
       "      <td>38</td>\n",
       "      <td>24</td>\n",
       "      <td>6.2</td>\n",
       "    </tr>\n",
       "    <tr>\n",
       "      <th>1</th>\n",
       "      <td>380</td>\n",
       "      <td>2019-01-02</td>\n",
       "      <td>32</td>\n",
       "      <td>0</td>\n",
       "      <td>24</td>\n",
       "      <td>59</td>\n",
       "      <td>13</td>\n",
       "      <td>-20</td>\n",
       "      <td>24</td>\n",
       "      <td>3.2</td>\n",
       "    </tr>\n",
       "    <tr>\n",
       "      <th>2</th>\n",
       "      <td>380</td>\n",
       "      <td>2019-01-03</td>\n",
       "      <td>32</td>\n",
       "      <td>8</td>\n",
       "      <td>1</td>\n",
       "      <td>51</td>\n",
       "      <td>13</td>\n",
       "      <td>0</td>\n",
       "      <td>6</td>\n",
       "      <td>3.2</td>\n",
       "    </tr>\n",
       "    <tr>\n",
       "      <th>3</th>\n",
       "      <td>380</td>\n",
       "      <td>2019-01-04</td>\n",
       "      <td>25</td>\n",
       "      <td>10</td>\n",
       "      <td>5</td>\n",
       "      <td>40</td>\n",
       "      <td>12</td>\n",
       "      <td>1</td>\n",
       "      <td>6</td>\n",
       "      <td>2.5</td>\n",
       "    </tr>\n",
       "    <tr>\n",
       "      <th>4</th>\n",
       "      <td>380</td>\n",
       "      <td>2019-01-05</td>\n",
       "      <td>51</td>\n",
       "      <td>29</td>\n",
       "      <td>1</td>\n",
       "      <td>59</td>\n",
       "      <td>8</td>\n",
       "      <td>29</td>\n",
       "      <td>6</td>\n",
       "      <td>5.1</td>\n",
       "    </tr>\n",
       "    <tr>\n",
       "      <th>...</th>\n",
       "      <td>...</td>\n",
       "      <td>...</td>\n",
       "      <td>...</td>\n",
       "      <td>...</td>\n",
       "      <td>...</td>\n",
       "      <td>...</td>\n",
       "      <td>...</td>\n",
       "      <td>...</td>\n",
       "      <td>...</td>\n",
       "      <td>...</td>\n",
       "    </tr>\n",
       "    <tr>\n",
       "      <th>299</th>\n",
       "      <td>380</td>\n",
       "      <td>2019-10-27</td>\n",
       "      <td>86</td>\n",
       "      <td>28</td>\n",
       "      <td>24</td>\n",
       "      <td>152</td>\n",
       "      <td>1</td>\n",
       "      <td>16</td>\n",
       "      <td>24</td>\n",
       "      <td>8.6</td>\n",
       "    </tr>\n",
       "    <tr>\n",
       "      <th>300</th>\n",
       "      <td>380</td>\n",
       "      <td>2019-10-28</td>\n",
       "      <td>63</td>\n",
       "      <td>10</td>\n",
       "      <td>7</td>\n",
       "      <td>123</td>\n",
       "      <td>13</td>\n",
       "      <td>3</td>\n",
       "      <td>12</td>\n",
       "      <td>6.3</td>\n",
       "    </tr>\n",
       "    <tr>\n",
       "      <th>301</th>\n",
       "      <td>380</td>\n",
       "      <td>2019-10-29</td>\n",
       "      <td>65</td>\n",
       "      <td>31</td>\n",
       "      <td>24</td>\n",
       "      <td>112</td>\n",
       "      <td>13</td>\n",
       "      <td>21</td>\n",
       "      <td>24</td>\n",
       "      <td>6.5</td>\n",
       "    </tr>\n",
       "    <tr>\n",
       "      <th>302</th>\n",
       "      <td>380</td>\n",
       "      <td>2019-10-30</td>\n",
       "      <td>39</td>\n",
       "      <td>12</td>\n",
       "      <td>5</td>\n",
       "      <td>78</td>\n",
       "      <td>12</td>\n",
       "      <td>-1</td>\n",
       "      <td>6</td>\n",
       "      <td>3.9</td>\n",
       "    </tr>\n",
       "    <tr>\n",
       "      <th>303</th>\n",
       "      <td>380</td>\n",
       "      <td>2019-10-31</td>\n",
       "      <td>43</td>\n",
       "      <td>-1</td>\n",
       "      <td>6</td>\n",
       "      <td>100</td>\n",
       "      <td>14</td>\n",
       "      <td>-12</td>\n",
       "      <td>12</td>\n",
       "      <td>4.3</td>\n",
       "    </tr>\n",
       "  </tbody>\n",
       "</table>\n",
       "<p>304 rows × 10 columns</p>\n",
       "</div>"
      ],
      "text/plain": [
       "     # STN   YYYYMMDD  TG  TN  TNH   TX  TXH  T10N  T10NH  \\\n",
       "0      380 2019-01-01  62  42   24   77    1    38     24   \n",
       "1      380 2019-01-02  32   0   24   59   13   -20     24   \n",
       "2      380 2019-01-03  32   8    1   51   13     0      6   \n",
       "3      380 2019-01-04  25  10    5   40   12     1      6   \n",
       "4      380 2019-01-05  51  29    1   59    8    29      6   \n",
       "..     ...        ...  ..  ..  ...  ...  ...   ...    ...   \n",
       "299    380 2019-10-27  86  28   24  152    1    16     24   \n",
       "300    380 2019-10-28  63  10    7  123   13     3     12   \n",
       "301    380 2019-10-29  65  31   24  112   13    21     24   \n",
       "302    380 2019-10-30  39  12    5   78   12    -1      6   \n",
       "303    380 2019-10-31  43  -1    6  100   14   -12     12   \n",
       "\n",
       "     Mean_daily_temperature_in_°C  \n",
       "0                             6.2  \n",
       "1                             3.2  \n",
       "2                             3.2  \n",
       "3                             2.5  \n",
       "4                             5.1  \n",
       "..                            ...  \n",
       "299                           8.6  \n",
       "300                           6.3  \n",
       "301                           6.5  \n",
       "302                           3.9  \n",
       "303                           4.3  \n",
       "\n",
       "[304 rows x 10 columns]"
      ]
     },
     "metadata": {},
     "output_type": "display_data"
    },
    {
     "data": {
      "image/png": "[encoded data removed]",
      "text/plain": [
       "<Figure size 432x288 with 1 Axes>"
      ]
     },
     "metadata": {
      "needs_background": "light"
     },
     "output_type": "display_data"
    }
   ],
   "source": [
    "tem = pd.read_csv(\"KNMI_maastricht_temp_2019.csv\", header = 16, parse_dates=[1], skipinitialspace=True)\n",
    "tem['Mean_daily_temperature_in_°C'] = tem.TG / 10\n",
    "plt.plot(tem.index + 1, tem[\"Mean_daily_temperature_in_°C\"])\n",
    "plt.plot(tem['Mean_daily_temperature_in_°C'].idxmax() + 1, tem[\"Mean_daily_temperature_in_°C\"].max(), \"ro\")\n",
    "plt.title(f\"mean temperature on hottest day: {tem['Mean_daily_temperature_in_°C'].max():.2f} degrees Celsius\")\n",
    "plt.xlabel(\"number of the day in 2019\")\n",
    "plt.ylabel(\"Temperature in °C\")\n",
    "display(tem);"
   ]
  },
  {
   "cell_type": "markdown",
   "metadata": {},
   "source": [
    "### Exercise 4, Weekly mean temperature\n",
    "Use the file `KNMI_maastricht_temp_2019.csv` from the previous Exercise.\n",
    "Compute the weekly mean temperature (the weekly mean of the mean daily temperatures) for the first 43 weeks of 2019 by writing a loop. Plot the weekly mean maximum temperature vs. the week number, add legends and labels along the axes. "
   ]
  },
  {
   "cell_type": "code",
   "execution_count": 29,
   "metadata": {},
   "outputs": [
    {
     "data": {
      "image/png": "[encoded data removed]",
      "text/plain": [
       "<Figure size 432x288 with 1 Axes>"
      ]
     },
     "metadata": {
      "needs_background": "light"
     },
     "output_type": "display_data"
    }
   ],
   "source": [
    "wk = []\n",
    "for i in range(0, 43): \n",
    "    wk.append(tem['Mean_daily_temperature_in_°C'][7 * i : 7 * i + 7].mean())\n",
    "wk_n = np.arange(1, 44, 1)  \n",
    "plt.plot(wk_n, wk, label = \"weekly mean temperature\")\n",
    "plt.xlabel(\"Week number\")\n",
    "plt.ylabel(\"Temperature\")\n",
    "plt.title(\"Weekly mean temperature\")\n",
    "plt.legend();"
   ]
  },
  {
   "cell_type": "markdown",
   "metadata": {},
   "source": [
    "### Date times as index\n",
    "The datetime of a dataset may also be used as the index of a DataFrame by specifying the column with the dates as the column to use for an index with the `index_col` keyword.  Note that datetimes are given as year-month-day, so `2012-04-01` means April 1, 2012."
   ]
  },
  {
   "cell_type": "code",
   "execution_count": 30,
   "metadata": {},
   "outputs": [
    {
     "data": {
      "text/html": [
       "<div>\n",
       "<style scoped>\n",
       "    .dataframe tbody tr th:only-of-type {\n",
       "        vertical-align: middle;\n",
       "    }\n",
       "\n",
       "    .dataframe tbody tr th {\n",
       "        vertical-align: top;\n",
       "    }\n",
       "\n",
       "    .dataframe thead th {\n",
       "        text-align: right;\n",
       "    }\n",
       "</style>\n",
       "<table border=\"1\" class=\"dataframe\">\n",
       "  <thead>\n",
       "    <tr style=\"text-align: right;\">\n",
       "      <th></th>\n",
       "      <th>conc</th>\n",
       "    </tr>\n",
       "    <tr>\n",
       "      <th>date</th>\n",
       "      <th></th>\n",
       "    </tr>\n",
       "  </thead>\n",
       "  <tbody>\n",
       "    <tr>\n",
       "      <th>2014-04-01</th>\n",
       "      <td>0.19</td>\n",
       "    </tr>\n",
       "    <tr>\n",
       "      <th>2014-04-02</th>\n",
       "      <td>0.23</td>\n",
       "    </tr>\n",
       "    <tr>\n",
       "      <th>2014-04-03</th>\n",
       "      <td>0.32</td>\n",
       "    </tr>\n",
       "    <tr>\n",
       "      <th>2014-04-04</th>\n",
       "      <td>0.29</td>\n",
       "    </tr>\n",
       "    <tr>\n",
       "      <th>2014-04-05</th>\n",
       "      <td>0.32</td>\n",
       "    </tr>\n",
       "  </tbody>\n",
       "</table>\n",
       "</div>"
      ],
      "text/plain": [
       "             conc\n",
       "date             \n",
       "2014-04-01   0.19\n",
       "2014-04-02   0.23\n",
       "2014-04-03   0.32\n",
       "2014-04-04   0.29\n",
       "2014-04-05   0.32"
      ]
     },
     "metadata": {},
     "output_type": "display_data"
    },
    {
     "name": "stdout",
     "output_type": "stream",
     "text": [
      "data on April 1:  conc    0.19\n",
      "Name: 2014-04-01 00:00:00, dtype: float64\n",
      "data on April 2:  conc    0.23\n",
      "Name: 2014-04-02 00:00:00, dtype: float64\n"
     ]
    }
   ],
   "source": [
    "data = pd.read_csv('timeseries1.dat', parse_dates=[0], index_col=0)\n",
    "display(data)\n",
    "print('data on April 1:', data.loc['2014-04-01'])\n",
    "print('data on April 2:', data.loc['2014-04-02'])"
   ]
  },
  {
   "cell_type": "markdown",
   "metadata": {},
   "source": [
    "### Resampling\n",
    "DataFrames have a very powerful feature called resampling. Downsampling refers to going from high frequency to low frequency. For example, going from daily data to monthly data. Upsampling refers to going from low frequency to high frequency. For example going from monthly data to daily data. For both upsampling and downsampling, you need to tell `pandas` how to perform the resampling. Here we discuss downsampling, where we compute monthly totals from daily values. First we load the daily rainfall in Rotterdam in 2012 from the file `rotterdam_rainfall_2012.txt` and specify the dates as the index (this is the column labeled as YYYYMMDD). We resample the rain to monthly totals using the `resample` function. You have to tell the `resample` function to what frequency it needs to resample. Common ones are `'A'` for yearly, `'M'` for monthly, `'W'` for weekly, `'D'` for daily, and `'H'` for hourly, but there are many other ones (see  [here](http://pandas.pydata.org/pandas-docs/version/0.12.0/timeseries.html)). The keyword argument `kind` is used to tell `pandas` where to assign the computed values to. You can assign the computed value to the last day of the period, or the first day, or to the entire period (in this case the entire month). The latter is done by specifying `kind='period'`, which is what we will do here.  Finally, you need to specify how to resample. This is done by adding a `numpy` function at the end of the resample statement, like\n",
    "\n",
    "    dataframe.resample(...).npfunc()\n",
    "    \n",
    "where `npfunc` can be any `numpy` function like `mean` for the mean (that is the default), `sum` for the total, `min`, `max`, etc. Calculating the monthly totals and making a bar graph can now be done with `pandas` as follows. "
   ]
  },
  {
   "cell_type": "code",
   "execution_count": 31,
   "metadata": {},
   "outputs": [
    {
     "data": {
      "text/plain": [
       "YYYYMMDD\n",
       "2012-01     83.0\n",
       "2012-02     24.3\n",
       "2012-03     21.9\n",
       "2012-04     57.6\n",
       "2012-05     76.5\n",
       "2012-06    119.0\n",
       "2012-07    121.6\n",
       "2012-08     93.4\n",
       "2012-09     52.0\n",
       "2012-10    132.6\n",
       "2012-11     63.3\n",
       "2012-12    149.5\n",
       "Freq: M, Name: RH, dtype: float64"
      ]
     },
     "metadata": {},
     "output_type": "display_data"
    },
    {
     "data": {
      "image/png": "[encoded data removed]",
      "text/plain": [
       "<Figure size 720x288 with 1 Axes>"
      ]
     },
     "metadata": {
      "needs_background": "light"
     },
     "output_type": "display_data"
    }
   ],
   "source": [
    "rain = pd.read_csv('rotterdam_rainfall_2012.txt', skiprows=9,\n",
    "                parse_dates=['YYYYMMDD'], index_col='YYYYMMDD',\n",
    "                skipinitialspace=True)\n",
    "rain.RH[rain.RH<0] = 0  # remove negative values\n",
    "rain.RH = rain.RH * 0.1 # convert to mm/day\n",
    "monthlyrain = rain.RH.resample('M', kind='period').sum()\n",
    "display(monthlyrain)\n",
    "monthlyrain.plot(kind='bar', figsize=(10, 4))\n",
    "plt.ylabel('mm/month')\n",
    "plt.xlabel('month');"
   ]
  },
  {
   "cell_type": "markdown",
   "metadata": {},
   "source": [
    "### Exercise 5,<a name=\"back5\"></a> Resample temperature data\n",
    "Use the weather data for 2019 of Maastricht (`KNMI_maastricht_temp_2019.csv`) and New York (`newyork_weather.csv`, from the [NOAA](https://www.ncdc.noaa.gov/cdo-web/search) website). For both datasets:\n",
    "* Load the data making sure the dates are used as index. \n",
    "* Create a new column with the mean daily temperature in degrees Celcius (the column with the average daily temperature in the New York dataset is labeled `TAVG` and is given in Fahrenheit. \n",
    "* Compute total weekly mean temperature from the mean daily temperature using `resample`.\n",
    "* Plot the weekly mean temperature vs. the date for both cities in one graph, add a legend and label the axes."
   ]
  },
  {
   "cell_type": "code",
   "execution_count": 32,
   "metadata": {},
   "outputs": [
    {
     "data": {
      "text/html": [
       "<div>\n",
       "<style scoped>\n",
       "    .dataframe tbody tr th:only-of-type {\n",
       "        vertical-align: middle;\n",
       "    }\n",
       "\n",
       "    .dataframe tbody tr th {\n",
       "        vertical-align: top;\n",
       "    }\n",
       "\n",
       "    .dataframe thead th {\n",
       "        text-align: right;\n",
       "    }\n",
       "</style>\n",
       "<table border=\"1\" class=\"dataframe\">\n",
       "  <thead>\n",
       "    <tr style=\"text-align: right;\">\n",
       "      <th></th>\n",
       "      <th>STATION</th>\n",
       "      <th>NAME</th>\n",
       "      <th>DAPR</th>\n",
       "      <th>MDPR</th>\n",
       "      <th>PRCP</th>\n",
       "      <th>SNOW</th>\n",
       "      <th>SNWD</th>\n",
       "      <th>TAVG</th>\n",
       "      <th>TMAX</th>\n",
       "      <th>TMIN</th>\n",
       "      <th>TOBS</th>\n",
       "      <th>daily</th>\n",
       "    </tr>\n",
       "    <tr>\n",
       "      <th>DATE</th>\n",
       "      <th></th>\n",
       "      <th></th>\n",
       "      <th></th>\n",
       "      <th></th>\n",
       "      <th></th>\n",
       "      <th></th>\n",
       "      <th></th>\n",
       "      <th></th>\n",
       "      <th></th>\n",
       "      <th></th>\n",
       "      <th></th>\n",
       "      <th></th>\n",
       "    </tr>\n",
       "  </thead>\n",
       "  <tbody>\n",
       "    <tr>\n",
       "      <th>2019-01-01</th>\n",
       "      <td>USW00014732</td>\n",
       "      <td>LA GUARDIA AIRPORT, NY US</td>\n",
       "      <td>NaN</td>\n",
       "      <td>NaN</td>\n",
       "      <td>0.08</td>\n",
       "      <td>0.0</td>\n",
       "      <td>0.0</td>\n",
       "      <td>51.0</td>\n",
       "      <td>60</td>\n",
       "      <td>40</td>\n",
       "      <td>NaN</td>\n",
       "      <td>10.555556</td>\n",
       "    </tr>\n",
       "    <tr>\n",
       "      <th>2019-01-02</th>\n",
       "      <td>USW00014732</td>\n",
       "      <td>LA GUARDIA AIRPORT, NY US</td>\n",
       "      <td>NaN</td>\n",
       "      <td>NaN</td>\n",
       "      <td>0.00</td>\n",
       "      <td>0.0</td>\n",
       "      <td>0.0</td>\n",
       "      <td>39.0</td>\n",
       "      <td>41</td>\n",
       "      <td>35</td>\n",
       "      <td>NaN</td>\n",
       "      <td>3.888889</td>\n",
       "    </tr>\n",
       "    <tr>\n",
       "      <th>2019-01-03</th>\n",
       "      <td>USW00014732</td>\n",
       "      <td>LA GUARDIA AIRPORT, NY US</td>\n",
       "      <td>NaN</td>\n",
       "      <td>NaN</td>\n",
       "      <td>0.00</td>\n",
       "      <td>0.0</td>\n",
       "      <td>0.0</td>\n",
       "      <td>41.0</td>\n",
       "      <td>45</td>\n",
       "      <td>39</td>\n",
       "      <td>NaN</td>\n",
       "      <td>5.000000</td>\n",
       "    </tr>\n",
       "    <tr>\n",
       "      <th>2019-01-04</th>\n",
       "      <td>USW00014732</td>\n",
       "      <td>LA GUARDIA AIRPORT, NY US</td>\n",
       "      <td>NaN</td>\n",
       "      <td>NaN</td>\n",
       "      <td>0.00</td>\n",
       "      <td>0.0</td>\n",
       "      <td>0.0</td>\n",
       "      <td>41.0</td>\n",
       "      <td>47</td>\n",
       "      <td>37</td>\n",
       "      <td>NaN</td>\n",
       "      <td>5.000000</td>\n",
       "    </tr>\n",
       "    <tr>\n",
       "      <th>2019-01-05</th>\n",
       "      <td>USW00014732</td>\n",
       "      <td>LA GUARDIA AIRPORT, NY US</td>\n",
       "      <td>NaN</td>\n",
       "      <td>NaN</td>\n",
       "      <td>0.45</td>\n",
       "      <td>0.0</td>\n",
       "      <td>0.0</td>\n",
       "      <td>44.0</td>\n",
       "      <td>47</td>\n",
       "      <td>42</td>\n",
       "      <td>NaN</td>\n",
       "      <td>6.666667</td>\n",
       "    </tr>\n",
       "    <tr>\n",
       "      <th>...</th>\n",
       "      <td>...</td>\n",
       "      <td>...</td>\n",
       "      <td>...</td>\n",
       "      <td>...</td>\n",
       "      <td>...</td>\n",
       "      <td>...</td>\n",
       "      <td>...</td>\n",
       "      <td>...</td>\n",
       "      <td>...</td>\n",
       "      <td>...</td>\n",
       "      <td>...</td>\n",
       "      <td>...</td>\n",
       "    </tr>\n",
       "    <tr>\n",
       "      <th>2019-10-27</th>\n",
       "      <td>USW00014732</td>\n",
       "      <td>LA GUARDIA AIRPORT, NY US</td>\n",
       "      <td>NaN</td>\n",
       "      <td>NaN</td>\n",
       "      <td>1.41</td>\n",
       "      <td>0.0</td>\n",
       "      <td>0.0</td>\n",
       "      <td>NaN</td>\n",
       "      <td>70</td>\n",
       "      <td>56</td>\n",
       "      <td>NaN</td>\n",
       "      <td>NaN</td>\n",
       "    </tr>\n",
       "    <tr>\n",
       "      <th>2019-10-28</th>\n",
       "      <td>USW00014732</td>\n",
       "      <td>LA GUARDIA AIRPORT, NY US</td>\n",
       "      <td>NaN</td>\n",
       "      <td>NaN</td>\n",
       "      <td>0.00</td>\n",
       "      <td>0.0</td>\n",
       "      <td>0.0</td>\n",
       "      <td>59.0</td>\n",
       "      <td>63</td>\n",
       "      <td>54</td>\n",
       "      <td>NaN</td>\n",
       "      <td>15.000000</td>\n",
       "    </tr>\n",
       "    <tr>\n",
       "      <th>2019-10-29</th>\n",
       "      <td>USW00014732</td>\n",
       "      <td>LA GUARDIA AIRPORT, NY US</td>\n",
       "      <td>NaN</td>\n",
       "      <td>NaN</td>\n",
       "      <td>0.10</td>\n",
       "      <td>0.0</td>\n",
       "      <td>0.0</td>\n",
       "      <td>55.0</td>\n",
       "      <td>58</td>\n",
       "      <td>53</td>\n",
       "      <td>NaN</td>\n",
       "      <td>12.777778</td>\n",
       "    </tr>\n",
       "    <tr>\n",
       "      <th>2019-10-30</th>\n",
       "      <td>USW00014732</td>\n",
       "      <td>LA GUARDIA AIRPORT, NY US</td>\n",
       "      <td>NaN</td>\n",
       "      <td>NaN</td>\n",
       "      <td>0.04</td>\n",
       "      <td>0.0</td>\n",
       "      <td>0.0</td>\n",
       "      <td>58.0</td>\n",
       "      <td>60</td>\n",
       "      <td>56</td>\n",
       "      <td>NaN</td>\n",
       "      <td>14.444444</td>\n",
       "    </tr>\n",
       "    <tr>\n",
       "      <th>2019-10-31</th>\n",
       "      <td>USW00014732</td>\n",
       "      <td>LA GUARDIA AIRPORT, NY US</td>\n",
       "      <td>NaN</td>\n",
       "      <td>NaN</td>\n",
       "      <td>0.39</td>\n",
       "      <td>0.0</td>\n",
       "      <td>0.0</td>\n",
       "      <td>62.0</td>\n",
       "      <td>67</td>\n",
       "      <td>59</td>\n",
       "      <td>NaN</td>\n",
       "      <td>16.666667</td>\n",
       "    </tr>\n",
       "  </tbody>\n",
       "</table>\n",
       "<p>304 rows × 12 columns</p>\n",
       "</div>"
      ],
      "text/plain": [
       "                STATION                       NAME  DAPR  MDPR  PRCP  SNOW  \\\n",
       "DATE                                                                         \n",
       "2019-01-01  USW00014732  LA GUARDIA AIRPORT, NY US   NaN   NaN  0.08   0.0   \n",
       "2019-01-02  USW00014732  LA GUARDIA AIRPORT, NY US   NaN   NaN  0.00   0.0   \n",
       "2019-01-03  USW00014732  LA GUARDIA AIRPORT, NY US   NaN   NaN  0.00   0.0   \n",
       "2019-01-04  USW00014732  LA GUARDIA AIRPORT, NY US   NaN   NaN  0.00   0.0   \n",
       "2019-01-05  USW00014732  LA GUARDIA AIRPORT, NY US   NaN   NaN  0.45   0.0   \n",
       "...                 ...                        ...   ...   ...   ...   ...   \n",
       "2019-10-27  USW00014732  LA GUARDIA AIRPORT, NY US   NaN   NaN  1.41   0.0   \n",
       "2019-10-28  USW00014732  LA GUARDIA AIRPORT, NY US   NaN   NaN  0.00   0.0   \n",
       "2019-10-29  USW00014732  LA GUARDIA AIRPORT, NY US   NaN   NaN  0.10   0.0   \n",
       "2019-10-30  USW00014732  LA GUARDIA AIRPORT, NY US   NaN   NaN  0.04   0.0   \n",
       "2019-10-31  USW00014732  LA GUARDIA AIRPORT, NY US   NaN   NaN  0.39   0.0   \n",
       "\n",
       "            SNWD  TAVG  TMAX  TMIN  TOBS      daily  \n",
       "DATE                                                 \n",
       "2019-01-01   0.0  51.0    60    40   NaN  10.555556  \n",
       "2019-01-02   0.0  39.0    41    35   NaN   3.888889  \n",
       "2019-01-03   0.0  41.0    45    39   NaN   5.000000  \n",
       "2019-01-04   0.0  41.0    47    37   NaN   5.000000  \n",
       "2019-01-05   0.0  44.0    47    42   NaN   6.666667  \n",
       "...          ...   ...   ...   ...   ...        ...  \n",
       "2019-10-27   0.0   NaN    70    56   NaN        NaN  \n",
       "2019-10-28   0.0  59.0    63    54   NaN  15.000000  \n",
       "2019-10-29   0.0  55.0    58    53   NaN  12.777778  \n",
       "2019-10-30   0.0  58.0    60    56   NaN  14.444444  \n",
       "2019-10-31   0.0  62.0    67    59   NaN  16.666667  \n",
       "\n",
       "[304 rows x 12 columns]"
      ]
     },
     "metadata": {},
     "output_type": "display_data"
    },
    {
     "data": {
      "image/png": "[encoded data removed]",
      "text/plain": [
       "<Figure size 432x288 with 1 Axes>"
      ]
     },
     "metadata": {
      "needs_background": "light"
     },
     "output_type": "display_data"
    }
   ],
   "source": [
    "NK = pd.read_csv('newyork_weather.csv', index_col = [2], parse_dates = [2], skipinitialspace=True)\n",
    "MA = pd.read_csv('KNMI_maastricht_temp_2019.csv', header = 16, parse_dates=[1], skipinitialspace=True, index_col = [1])\n",
    "NK[\"daily\"] =  (NK.TAVG - 32)/1.8\n",
    "MA[\"daily\"] =  MA.TG * 0.1\n",
    "display(NK)\n",
    "a = NK.daily.resample(\"W\", kind = \"period\").mean()\n",
    "b = MA.daily.resample(\"W\", kind = \"period\").mean()\n",
    "a.plot(label = \"New York\")\n",
    "b.plot(label = \"Maastricht\")\n",
    "plt.legend()\n",
    "plt.xlabel(\"date\")\n",
    "plt.ylabel(\"Temperature\")\n",
    "plt.title(\"Temperature in New York and Maastricht\");"
   ]
  },
  {
   "cell_type": "markdown",
   "metadata": {},
   "source": [
    "### Rolling mean or rolling total\n",
    "The `resample` method resamples to, for example, weeks, one week at a time. The `rolling` method performs a similar computation for a moving window, where the first argument is the length of the moving window. For example, a 30 day rolling total rainfall first computes the total rainfall in the first 30 days, from day 0 till day 30, then from day 1 till day 31, from day 2 till 32, etc. The value can be assigned to the end of the rolling period, or to the center of the rolling period (by setting `center=True`). The monthly total rainfall and 30-day rolling total are compared in the figure below."
   ]
  },
  {
   "cell_type": "code",
   "execution_count": 33,
   "metadata": {},
   "outputs": [
    {
     "data": {
      "image/png": "[encoded data removed]",
      "text/plain": [
       "<Figure size 864x288 with 2 Axes>"
      ]
     },
     "metadata": {
      "needs_background": "light"
     },
     "output_type": "display_data"
    }
   ],
   "source": [
    "plt.figure(figsize=(12, 4))\n",
    "plt.subplot(121)\n",
    "monthlyrain.plot(kind='bar')\n",
    "plt.xlabel('2012')\n",
    "plt.ylabel('total monthly rainfall (mm)')\n",
    "plt.subplot(122)\n",
    "rain.RH.rolling(30, center=True).sum().plot()\n",
    "plt.xlabel('2012')\n",
    "plt.ylabel('total 30-day rainfall (mm)');"
   ]
  },
  {
   "cell_type": "markdown",
   "metadata": {},
   "source": [
    "### Exercise 6, Rolling mean temperature\n",
    "Compute the 7-day rolling mean temperature for both Maastricht and New York and plot them in one graph. Add a legend and label the axes."
   ]
  },
  {
   "cell_type": "code",
   "execution_count": 34,
   "metadata": {},
   "outputs": [
    {
     "data": {
      "image/png": "[encoded data removed]",
      "text/plain": [
       "<Figure size 432x288 with 1 Axes>"
      ]
     },
     "metadata": {
      "needs_background": "light"
     },
     "output_type": "display_data"
    }
   ],
   "source": [
    "NK.daily.rolling(7, center = True).mean().plot(label = \"New York\")\n",
    "MA.daily.rolling(7, center = True).mean().plot(label = \"Maastricht\")\n",
    "plt.legend()\n",
    "plt.xlabel(\"date\")\n",
    "plt.ylabel(\"Temperature\")\n",
    "plt.title(\"7 days rolling\");"
   ]
  },
  {
   "cell_type": "code",
   "execution_count": null,
   "metadata": {},
   "outputs": [],
   "source": []
  }
 ],
 "metadata": {
  "kernelspec": {
   "display_name": "Python 3",
   "language": "python",
   "name": "python3"
  },
  "language_info": {
   "codemirror_mode": {
    "name": "ipython",
    "version": 3
   },
   "file_extension": ".py",
   "mimetype": "text/x-python",
   "name": "python",
   "nbconvert_exporter": "python",
   "pygments_lexer": "ipython3",
   "version": "3.8.8"
  },
  "latex_envs": {
   "LaTeX_envs_menu_present": true,
   "autoclose": false,
   "autocomplete": true,
   "bibliofile": "biblio.bib",
   "cite_by": "apalike",
   "current_citInitial": 1,
   "eqLabelWithNumbers": true,
   "eqNumInitial": 1,
   "hotkeys": {
    "equation": "Ctrl-E",
    "itemize": "Ctrl-I"
   },
   "labels_anchors": false,
   "latex_user_defs": false,
   "report_style_numbering": false,
   "user_envs_cfg": false
  },
  "varInspector": {
   "cols": {
    "lenName": 16,
    "lenType": 16,
    "lenVar": 40
   },
   "kernels_config": {
    "python": {
     "delete_cmd_postfix": "",
     "delete_cmd_prefix": "del ",
     "library": "var_list.py",
     "varRefreshCmd": "print(var_dic_list())"
    },
    "r": {
     "delete_cmd_postfix": ") ",
     "delete_cmd_prefix": "rm(",
     "library": "var_list.r",
     "varRefreshCmd": "cat(var_dic_list()) "
    }
   },
   "types_to_exclude": [
    "module",
    "function",
    "builtin_function_or_method",
    "instance",
    "_Feature"
   ],
   "window_display": false
  }
 },
 "nbformat": 4,
 "nbformat_minor": 4
}
